{
 "cells": [
  {
   "cell_type": "markdown",
   "metadata": {},
   "source": [
    "\n",
    "# Project: Investigate the Gapminder Datasets based on a number of economic and social indicators\n",
    "\n",
    "Prepared by: Mauricio Santiago F.\n",
    "\n",
    "## Table of Contents\n",
    "<ul>\n",
    "<li><a href=\"#intro\">Introduction</a></li>\n",
    "<li><a href=\"#wrangling\">Data Wrangling</a></li>\n",
    "<li><a href=\"#eda\">Exploratory Data Analysis</a></li>\n",
    "<li><a href=\"#conclusions\">Conclusions</a></li>\n",
    "</ul>"
   ]
  },
  {
   "cell_type": "markdown",
   "metadata": {},
   "source": [
    "<a id='intro'></a>\n",
    "## Introduction\n",
    "\n",
    "In this report I will analyse the following Gapminder datasets showing developmnet of the countries over a period of time:\n",
    "- GNI per Capita based on purchasing power parity in international USD\n",
    "- Life expectancy in years\n",
    "- Population growth as % to the previous year\n",
    "- Inequality index, % of 100%\n",
    "- Human development index, % of 100%\n",
    "- Democracy index, % of 100%\n",
    "- Government military spending, % of GDP\n",
    "- Corruption perception index, % of 100%\n",
    "\n",
    "I will use this data to answer the following questions about economis and social development of the world:\n",
    "<ul>\n",
    "<li><a href = \"#question1\">Section 1: What changes can be generally seen in the development of Gapminder indicators in 2018 compared to 2010?</a></li>\n",
    "\n",
    "<li><a href = \"#question2\">Section 2: Are there tentative correlations between the following indicators: life expectancy, level of democracy, level of corruption and GDP per capita, human development and democracy, democracy and inequality?  </a></li>\n",
    "\n",
    "<li><a href = \"#question3\">Section 3:  How is the income distributed in the world?</a></li>\n",
    "</ul>\n",
    "\n",
    "The analysed questions are listed in detail in <a href = \"#eda\">the introduction to the Explanatory Data Analysis</a>.\n",
    "    \n",
    "For the analysis I will take only data for 2010 and 2018. For some datasets the information for these years is not available. In these cases I will use the closest year for which there is information available.\n",
    "\n",
    "In some parts of the analysis I will pay special attention to the following three countries that are of most interest to me:\n",
    "\n",
    "- Guatemala (My homeland)\n",
    "- Germany (Interesting country to evaluate)\n",
    "- United States (Main Commercial Partner of Guatemala)\n",
    "\n",
    "The full datasets are avilable on the website of Gapminder at:\n",
    "https://www.gapminder.org/data/\n",
    "\n"
   ]
  },
  {
   "cell_type": "code",
   "execution_count": 1,
   "metadata": {},
   "outputs": [],
   "source": [
    "# Import the packages that will be used in the analysis\n",
    "import pandas as pd\n",
    "import numpy as np\n",
    "import seaborn as sns\n",
    "import matplotlib.pyplot as plt\n",
    "from functools import reduce\n",
    "%matplotlib inline\n",
    "sns.set_style('darkgrid')\n"
   ]
  },
  {
   "cell_type": "markdown",
   "metadata": {},
   "source": [
    "<a id='wrangling'></a>\n",
    "## Data Wrangling\n",
    "\n",
    "\n",
    "### General Properties\n",
    "\n",
    "#### Downloading datasets and taking the columns of interest from them\n",
    "\n",
    "##### Countries and Regions dataset\n",
    "\n",
    "The datasets I chose from the Gapminder site did not have the 'continent' column. So I downloaded an Excel file with country and region information from another Gapminder source at: https://www.gapminder.org/data/geo/.\n",
    "\n",
    "I then deleted in Excel the columns I did not need and saved the file to a csv format. I noticed that the separator was ';'.\n"
   ]
  },
  {
   "cell_type": "code",
   "execution_count": 2,
   "metadata": {},
   "outputs": [
    {
     "data": {
      "text/html": [
       "<div>\n",
       "<style scoped>\n",
       "    .dataframe tbody tr th:only-of-type {\n",
       "        vertical-align: middle;\n",
       "    }\n",
       "\n",
       "    .dataframe tbody tr th {\n",
       "        vertical-align: top;\n",
       "    }\n",
       "\n",
       "    .dataframe thead th {\n",
       "        text-align: right;\n",
       "    }\n",
       "</style>\n",
       "<table border=\"1\" class=\"dataframe\">\n",
       "  <thead>\n",
       "    <tr style=\"text-align: right;\">\n",
       "      <th></th>\n",
       "      <th>name</th>\n",
       "      <th>four_regions</th>\n",
       "      <th>eight_regions</th>\n",
       "      <th>six_regions</th>\n",
       "      <th>members_oecd_g77</th>\n",
       "    </tr>\n",
       "  </thead>\n",
       "  <tbody>\n",
       "    <tr>\n",
       "      <th>0</th>\n",
       "      <td>Afghanistan</td>\n",
       "      <td>asia</td>\n",
       "      <td>asia_west</td>\n",
       "      <td>south_asia</td>\n",
       "      <td>g77</td>\n",
       "    </tr>\n",
       "    <tr>\n",
       "      <th>1</th>\n",
       "      <td>Albania</td>\n",
       "      <td>europe</td>\n",
       "      <td>europe_east</td>\n",
       "      <td>europe_central_asia</td>\n",
       "      <td>others</td>\n",
       "    </tr>\n",
       "    <tr>\n",
       "      <th>2</th>\n",
       "      <td>Algeria</td>\n",
       "      <td>africa</td>\n",
       "      <td>africa_north</td>\n",
       "      <td>middle_east_north_africa</td>\n",
       "      <td>g77</td>\n",
       "    </tr>\n",
       "  </tbody>\n",
       "</table>\n",
       "</div>"
      ],
      "text/plain": [
       "          name four_regions eight_regions               six_regions  \\\n",
       "0  Afghanistan         asia     asia_west                south_asia   \n",
       "1      Albania       europe   europe_east       europe_central_asia   \n",
       "2      Algeria       africa  africa_north  middle_east_north_africa   \n",
       "\n",
       "  members_oecd_g77  \n",
       "0              g77  \n",
       "1           others  \n",
       "2              g77  "
      ]
     },
     "execution_count": 2,
     "metadata": {},
     "output_type": "execute_result"
    }
   ],
   "source": [
    "df_region = pd.read_csv('list_of_countries.csv', sep = ';')\n",
    "df_region.head(3)"
   ]
  },
  {
   "cell_type": "markdown",
   "metadata": {},
   "source": [
    "I think that the division by 8 regions will be most representative. So I will choose this column to be included in my future combined dataset."
   ]
  },
  {
   "cell_type": "code",
   "execution_count": 3,
   "metadata": {},
   "outputs": [
    {
     "data": {
      "text/plain": [
       "array(['asia_west', 'europe_east', 'africa_north', 'europe_west',\n",
       "       'africa_sub_saharan', 'america_north', 'america_south',\n",
       "       'east_asia_pacific'], dtype=object)"
      ]
     },
     "execution_count": 3,
     "metadata": {},
     "output_type": "execute_result"
    }
   ],
   "source": [
    "df_region.eight_regions.unique()"
   ]
  },
  {
   "cell_type": "code",
   "execution_count": 4,
   "metadata": {},
   "outputs": [
    {
     "data": {
      "text/html": [
       "<div>\n",
       "<style scoped>\n",
       "    .dataframe tbody tr th:only-of-type {\n",
       "        vertical-align: middle;\n",
       "    }\n",
       "\n",
       "    .dataframe tbody tr th {\n",
       "        vertical-align: top;\n",
       "    }\n",
       "\n",
       "    .dataframe thead th {\n",
       "        text-align: right;\n",
       "    }\n",
       "</style>\n",
       "<table border=\"1\" class=\"dataframe\">\n",
       "  <thead>\n",
       "    <tr style=\"text-align: right;\">\n",
       "      <th></th>\n",
       "      <th>country</th>\n",
       "      <th>region</th>\n",
       "    </tr>\n",
       "  </thead>\n",
       "  <tbody>\n",
       "    <tr>\n",
       "      <th>0</th>\n",
       "      <td>Afghanistan</td>\n",
       "      <td>Western Asia</td>\n",
       "    </tr>\n",
       "    <tr>\n",
       "      <th>1</th>\n",
       "      <td>Albania</td>\n",
       "      <td>Eastern Europe</td>\n",
       "    </tr>\n",
       "    <tr>\n",
       "      <th>2</th>\n",
       "      <td>Algeria</td>\n",
       "      <td>Northern Africa</td>\n",
       "    </tr>\n",
       "  </tbody>\n",
       "</table>\n",
       "</div>"
      ],
      "text/plain": [
       "       country           region\n",
       "0  Afghanistan     Western Asia\n",
       "1      Albania   Eastern Europe\n",
       "2      Algeria  Northern Africa"
      ]
     },
     "execution_count": 4,
     "metadata": {},
     "output_type": "execute_result"
    }
   ],
   "source": [
    "# Take the required columns and rename the regions to be used subsequently in plots\n",
    "df_region = df_region[['name', 'eight_regions']]\n",
    "df_region.rename(columns = {'name':'country', 'eight_regions':'region'}, inplace = True)\n",
    "df_region.region.replace(to_replace=dict(asia_west='Western Asia', europe_east='Eastern Europe', africa_north='Northern Africa', europe_west = 'Western Europe',\n",
    "       africa_sub_saharan= 'Sub Saharan Africa', america_north='North America', america_south='South America',\n",
    "       east_asia_pacific='East Asia Pasific'), inplace=True)\n",
    "df_region.head(3)"
   ]
  },
  {
   "cell_type": "code",
   "execution_count": 5,
   "metadata": {},
   "outputs": [
    {
     "data": {
      "text/plain": [
       "array(['Western Asia', 'Eastern Europe', 'Northern Africa',\n",
       "       'Western Europe', 'Sub Saharan Africa', 'North America',\n",
       "       'South America', 'East Asia Pasific'], dtype=object)"
      ]
     },
     "execution_count": 5,
     "metadata": {},
     "output_type": "execute_result"
    }
   ],
   "source": [
    "df_region['region'].unique()"
   ]
  },
  {
   "cell_type": "markdown",
   "metadata": {},
   "source": [
    "##### Function to download all other datasets and rename columns in them \n",
    "\n",
    "Since I chose many separate datasets, I will wrap the csv import procedure into a function and use it all along."
   ]
  },
  {
   "cell_type": "code",
   "execution_count": 6,
   "metadata": {},
   "outputs": [],
   "source": [
    "# Write a function to download a csv file into a dataframe and rename columns\n",
    "\n",
    "def import_csv(file, cols, old_col1, new_col1, old_col2, new_col2):\n",
    "    # where:\n",
    "    # file - name of the csv file\n",
    "    # cols - list of columns that will be taken from the file\n",
    "    # old_col1 - old name of the first year column\n",
    "    # new_col1 - new name of the first year column\n",
    "    # old_col2 - old name of the last year column\n",
    "    # new_col2 - new name of the last year column\n",
    "    df = pd.read_csv(file)\n",
    "    df = df[cols]\n",
    "    df.rename(columns = {old_col1:new_col1, old_col2:new_col2}, inplace = True)\n",
    "    return df"
   ]
  },
  {
   "cell_type": "markdown",
   "metadata": {},
   "source": [
    "#### Cross National Income per Capita\n",
    "Load Worldbank's dataset of GNI (Gross National Income) per capita based on PPP (Purchasing Power Parity) converted to international dollars. A higher indicator shows a better well-being of the nation.\n"
   ]
  },
  {
   "cell_type": "code",
   "execution_count": 7,
   "metadata": {
    "scrolled": true
   },
   "outputs": [
    {
     "data": {
      "text/html": [
       "<div>\n",
       "<style scoped>\n",
       "    .dataframe tbody tr th:only-of-type {\n",
       "        vertical-align: middle;\n",
       "    }\n",
       "\n",
       "    .dataframe tbody tr th {\n",
       "        vertical-align: top;\n",
       "    }\n",
       "\n",
       "    .dataframe thead th {\n",
       "        text-align: right;\n",
       "    }\n",
       "</style>\n",
       "<table border=\"1\" class=\"dataframe\">\n",
       "  <thead>\n",
       "    <tr style=\"text-align: right;\">\n",
       "      <th></th>\n",
       "      <th>country</th>\n",
       "      <th>gdp_2010</th>\n",
       "      <th>gdp_2018</th>\n",
       "    </tr>\n",
       "  </thead>\n",
       "  <tbody>\n",
       "    <tr>\n",
       "      <th>0</th>\n",
       "      <td>Afghanistan</td>\n",
       "      <td>1640.0</td>\n",
       "      <td>1970.0</td>\n",
       "    </tr>\n",
       "    <tr>\n",
       "      <th>1</th>\n",
       "      <td>Albania</td>\n",
       "      <td>9530.0</td>\n",
       "      <td>13400.0</td>\n",
       "    </tr>\n",
       "    <tr>\n",
       "      <th>2</th>\n",
       "      <td>Algeria</td>\n",
       "      <td>12600.0</td>\n",
       "      <td>NaN</td>\n",
       "    </tr>\n",
       "  </tbody>\n",
       "</table>\n",
       "</div>"
      ],
      "text/plain": [
       "       country  gdp_2010  gdp_2018\n",
       "0  Afghanistan    1640.0    1970.0\n",
       "1      Albania    9530.0   13400.0\n",
       "2      Algeria   12600.0       NaN"
      ]
     },
     "execution_count": 7,
     "metadata": {},
     "output_type": "execute_result"
    }
   ],
   "source": [
    "df_gdp = import_csv('gnipercapita_ppp_current_international.csv', ['country', '2010','2018'], '2010','gdp_2010','2018','gdp_2018')\n",
    "df_gdp.head(3)"
   ]
  },
  {
   "cell_type": "markdown",
   "metadata": {},
   "source": [
    "#### Life Expectancy\n",
    "Load the dataset of Life Expectancy. The indicator shows the average number of years a newborn child is expected to live if current mortality patterns stay the same."
   ]
  },
  {
   "cell_type": "code",
   "execution_count": 8,
   "metadata": {
    "scrolled": true
   },
   "outputs": [
    {
     "data": {
      "text/html": [
       "<div>\n",
       "<style scoped>\n",
       "    .dataframe tbody tr th:only-of-type {\n",
       "        vertical-align: middle;\n",
       "    }\n",
       "\n",
       "    .dataframe tbody tr th {\n",
       "        vertical-align: top;\n",
       "    }\n",
       "\n",
       "    .dataframe thead th {\n",
       "        text-align: right;\n",
       "    }\n",
       "</style>\n",
       "<table border=\"1\" class=\"dataframe\">\n",
       "  <thead>\n",
       "    <tr style=\"text-align: right;\">\n",
       "      <th></th>\n",
       "      <th>country</th>\n",
       "      <th>le_2010</th>\n",
       "      <th>le_2018</th>\n",
       "    </tr>\n",
       "  </thead>\n",
       "  <tbody>\n",
       "    <tr>\n",
       "      <th>0</th>\n",
       "      <td>Afghanistan</td>\n",
       "      <td>59.9</td>\n",
       "      <td>63.7</td>\n",
       "    </tr>\n",
       "    <tr>\n",
       "      <th>1</th>\n",
       "      <td>Albania</td>\n",
       "      <td>77.6</td>\n",
       "      <td>78.3</td>\n",
       "    </tr>\n",
       "    <tr>\n",
       "      <th>2</th>\n",
       "      <td>Algeria</td>\n",
       "      <td>76.3</td>\n",
       "      <td>77.9</td>\n",
       "    </tr>\n",
       "  </tbody>\n",
       "</table>\n",
       "</div>"
      ],
      "text/plain": [
       "       country  le_2010  le_2018\n",
       "0  Afghanistan     59.9     63.7\n",
       "1      Albania     77.6     78.3\n",
       "2      Algeria     76.3     77.9"
      ]
     },
     "execution_count": 8,
     "metadata": {},
     "output_type": "execute_result"
    }
   ],
   "source": [
    "df_le = import_csv('life_expectancy_years.csv', ['country', '2010','2018'], '2010','le_2010','2018','le_2018')\n",
    "df_le.head(3)"
   ]
  },
  {
   "cell_type": "markdown",
   "metadata": {},
   "source": [
    "#### Population growth\n",
    "Load the dataset of Population Growth. The indicator shows the percentage growth compared to the previous year's popultaion."
   ]
  },
  {
   "cell_type": "code",
   "execution_count": 9,
   "metadata": {},
   "outputs": [
    {
     "data": {
      "text/html": [
       "<div>\n",
       "<style scoped>\n",
       "    .dataframe tbody tr th:only-of-type {\n",
       "        vertical-align: middle;\n",
       "    }\n",
       "\n",
       "    .dataframe tbody tr th {\n",
       "        vertical-align: top;\n",
       "    }\n",
       "\n",
       "    .dataframe thead th {\n",
       "        text-align: right;\n",
       "    }\n",
       "</style>\n",
       "<table border=\"1\" class=\"dataframe\">\n",
       "  <thead>\n",
       "    <tr style=\"text-align: right;\">\n",
       "      <th></th>\n",
       "      <th>country</th>\n",
       "      <th>pg_2010</th>\n",
       "      <th>pg_2018</th>\n",
       "    </tr>\n",
       "  </thead>\n",
       "  <tbody>\n",
       "    <tr>\n",
       "      <th>0</th>\n",
       "      <td>Afghanistan</td>\n",
       "      <td>0.02750</td>\n",
       "      <td>0.02380</td>\n",
       "    </tr>\n",
       "    <tr>\n",
       "      <th>1</th>\n",
       "      <td>Albania</td>\n",
       "      <td>-0.00496</td>\n",
       "      <td>-0.00247</td>\n",
       "    </tr>\n",
       "    <tr>\n",
       "      <th>2</th>\n",
       "      <td>Algeria</td>\n",
       "      <td>0.01810</td>\n",
       "      <td>0.02010</td>\n",
       "    </tr>\n",
       "  </tbody>\n",
       "</table>\n",
       "</div>"
      ],
      "text/plain": [
       "       country  pg_2010  pg_2018\n",
       "0  Afghanistan  0.02750  0.02380\n",
       "1      Albania -0.00496 -0.00247\n",
       "2      Algeria  0.01810  0.02010"
      ]
     },
     "execution_count": 9,
     "metadata": {},
     "output_type": "execute_result"
    }
   ],
   "source": [
    "df_pg = import_csv('population_growth_annual_percent.csv', ['country', '2010','2018'], '2010','pg_2010','2018','pg_2018')\n",
    "df_pg.head(3)"
   ]
  },
  {
   "cell_type": "markdown",
   "metadata": {},
   "source": [
    "#### GINI Inequality Index\n",
    "\n",
    "Load the data of income inequality index. A higher number means more inequality."
   ]
  },
  {
   "cell_type": "code",
   "execution_count": 10,
   "metadata": {},
   "outputs": [
    {
     "data": {
      "text/html": [
       "<div>\n",
       "<style scoped>\n",
       "    .dataframe tbody tr th:only-of-type {\n",
       "        vertical-align: middle;\n",
       "    }\n",
       "\n",
       "    .dataframe tbody tr th {\n",
       "        vertical-align: top;\n",
       "    }\n",
       "\n",
       "    .dataframe thead th {\n",
       "        text-align: right;\n",
       "    }\n",
       "</style>\n",
       "<table border=\"1\" class=\"dataframe\">\n",
       "  <thead>\n",
       "    <tr style=\"text-align: right;\">\n",
       "      <th></th>\n",
       "      <th>country</th>\n",
       "      <th>ineq_2010</th>\n",
       "      <th>ineq_2018</th>\n",
       "    </tr>\n",
       "  </thead>\n",
       "  <tbody>\n",
       "    <tr>\n",
       "      <th>0</th>\n",
       "      <td>Afghanistan</td>\n",
       "      <td>36.8</td>\n",
       "      <td>36.8</td>\n",
       "    </tr>\n",
       "    <tr>\n",
       "      <th>1</th>\n",
       "      <td>Albania</td>\n",
       "      <td>29.5</td>\n",
       "      <td>29.0</td>\n",
       "    </tr>\n",
       "    <tr>\n",
       "      <th>2</th>\n",
       "      <td>Algeria</td>\n",
       "      <td>28.5</td>\n",
       "      <td>27.6</td>\n",
       "    </tr>\n",
       "  </tbody>\n",
       "</table>\n",
       "</div>"
      ],
      "text/plain": [
       "       country  ineq_2010  ineq_2018\n",
       "0  Afghanistan       36.8       36.8\n",
       "1      Albania       29.5       29.0\n",
       "2      Algeria       28.5       27.6"
      ]
     },
     "execution_count": 10,
     "metadata": {},
     "output_type": "execute_result"
    }
   ],
   "source": [
    "df_ineq = import_csv('gini.csv', ['country', '2010','2018'], '2010','ineq_2010','2018','ineq_2018')\n",
    "df_ineq.head(3)"
   ]
  },
  {
   "cell_type": "markdown",
   "metadata": {},
   "source": [
    "#### Human Development Index\n",
    "Load dataset of Human Development Index. The index is based on three dimensions: health level, educational level and living standard. A higher index shows a better well-being of the nation."
   ]
  },
  {
   "cell_type": "code",
   "execution_count": 11,
   "metadata": {
    "scrolled": true
   },
   "outputs": [
    {
     "data": {
      "text/html": [
       "<div>\n",
       "<style scoped>\n",
       "    .dataframe tbody tr th:only-of-type {\n",
       "        vertical-align: middle;\n",
       "    }\n",
       "\n",
       "    .dataframe tbody tr th {\n",
       "        vertical-align: top;\n",
       "    }\n",
       "\n",
       "    .dataframe thead th {\n",
       "        text-align: right;\n",
       "    }\n",
       "</style>\n",
       "<table border=\"1\" class=\"dataframe\">\n",
       "  <thead>\n",
       "    <tr style=\"text-align: right;\">\n",
       "      <th></th>\n",
       "      <th>country</th>\n",
       "      <th>hdi_2010</th>\n",
       "      <th>hdi_2015</th>\n",
       "    </tr>\n",
       "  </thead>\n",
       "  <tbody>\n",
       "    <tr>\n",
       "      <th>0</th>\n",
       "      <td>Afghanistan</td>\n",
       "      <td>0.454</td>\n",
       "      <td>0.479</td>\n",
       "    </tr>\n",
       "    <tr>\n",
       "      <th>1</th>\n",
       "      <td>Albania</td>\n",
       "      <td>0.738</td>\n",
       "      <td>0.764</td>\n",
       "    </tr>\n",
       "    <tr>\n",
       "      <th>2</th>\n",
       "      <td>Algeria</td>\n",
       "      <td>0.724</td>\n",
       "      <td>0.745</td>\n",
       "    </tr>\n",
       "  </tbody>\n",
       "</table>\n",
       "</div>"
      ],
      "text/plain": [
       "       country  hdi_2010  hdi_2015\n",
       "0  Afghanistan     0.454     0.479\n",
       "1      Albania     0.738     0.764\n",
       "2      Algeria     0.724     0.745"
      ]
     },
     "execution_count": 11,
     "metadata": {},
     "output_type": "execute_result"
    }
   ],
   "source": [
    "df_hdi = import_csv('hdi_human_development_index.csv', ['country', '2010','2015'], '2010','hdi_2010','2015','hdi_2015')\n",
    "df_hdi.head(3)"
   ]
  },
  {
   "cell_type": "markdown",
   "metadata": {},
   "source": [
    "#### Democracy Index\n",
    "Load the dataset of Democracy Index. The index is prepared by the Economist Intelligence Unit based on 60 different aspects of the society. It ranges from 0 to 100. A higher index shows a better situation with the democracy in the country. The Gapminder database shows the index as a percentage of 1."
   ]
  },
  {
   "cell_type": "code",
   "execution_count": 12,
   "metadata": {
    "scrolled": true
   },
   "outputs": [
    {
     "data": {
      "text/html": [
       "<div>\n",
       "<style scoped>\n",
       "    .dataframe tbody tr th:only-of-type {\n",
       "        vertical-align: middle;\n",
       "    }\n",
       "\n",
       "    .dataframe tbody tr th {\n",
       "        vertical-align: top;\n",
       "    }\n",
       "\n",
       "    .dataframe thead th {\n",
       "        text-align: right;\n",
       "    }\n",
       "</style>\n",
       "<table border=\"1\" class=\"dataframe\">\n",
       "  <thead>\n",
       "    <tr style=\"text-align: right;\">\n",
       "      <th></th>\n",
       "      <th>country</th>\n",
       "      <th>demox_2010</th>\n",
       "      <th>demox_2018</th>\n",
       "    </tr>\n",
       "  </thead>\n",
       "  <tbody>\n",
       "    <tr>\n",
       "      <th>0</th>\n",
       "      <td>Afghanistan</td>\n",
       "      <td>0.248</td>\n",
       "      <td>0.297</td>\n",
       "    </tr>\n",
       "    <tr>\n",
       "      <th>1</th>\n",
       "      <td>Albania</td>\n",
       "      <td>0.586</td>\n",
       "      <td>0.598</td>\n",
       "    </tr>\n",
       "    <tr>\n",
       "      <th>2</th>\n",
       "      <td>Algeria</td>\n",
       "      <td>0.344</td>\n",
       "      <td>0.350</td>\n",
       "    </tr>\n",
       "  </tbody>\n",
       "</table>\n",
       "</div>"
      ],
      "text/plain": [
       "       country  demox_2010  demox_2018\n",
       "0  Afghanistan       0.248       0.297\n",
       "1      Albania       0.586       0.598\n",
       "2      Algeria       0.344       0.350"
      ]
     },
     "execution_count": 12,
     "metadata": {},
     "output_type": "execute_result"
    }
   ],
   "source": [
    "df_demox = import_csv('demox_eiu.csv', ['country', '2010','2018'], '2010','demox_2010','2018','demox_2018')\n",
    "df_demox.head(3)"
   ]
  },
  {
   "cell_type": "markdown",
   "metadata": {},
   "source": [
    "#### Government Military Spending\n",
    "Load the dataset of Government Military Expenditures as a percentage of GDP."
   ]
  },
  {
   "cell_type": "code",
   "execution_count": 13,
   "metadata": {},
   "outputs": [
    {
     "data": {
      "text/html": [
       "<div>\n",
       "<style scoped>\n",
       "    .dataframe tbody tr th:only-of-type {\n",
       "        vertical-align: middle;\n",
       "    }\n",
       "\n",
       "    .dataframe tbody tr th {\n",
       "        vertical-align: top;\n",
       "    }\n",
       "\n",
       "    .dataframe thead th {\n",
       "        text-align: right;\n",
       "    }\n",
       "</style>\n",
       "<table border=\"1\" class=\"dataframe\">\n",
       "  <thead>\n",
       "    <tr style=\"text-align: right;\">\n",
       "      <th></th>\n",
       "      <th>country</th>\n",
       "      <th>gms_2010</th>\n",
       "      <th>gms_2018</th>\n",
       "    </tr>\n",
       "  </thead>\n",
       "  <tbody>\n",
       "    <tr>\n",
       "      <th>0</th>\n",
       "      <td>Afghanistan</td>\n",
       "      <td>0.0195</td>\n",
       "      <td>0.00985</td>\n",
       "    </tr>\n",
       "    <tr>\n",
       "      <th>1</th>\n",
       "      <td>Albania</td>\n",
       "      <td>0.0156</td>\n",
       "      <td>0.01180</td>\n",
       "    </tr>\n",
       "    <tr>\n",
       "      <th>2</th>\n",
       "      <td>Algeria</td>\n",
       "      <td>0.0352</td>\n",
       "      <td>0.05270</td>\n",
       "    </tr>\n",
       "  </tbody>\n",
       "</table>\n",
       "</div>"
      ],
      "text/plain": [
       "       country  gms_2010  gms_2018\n",
       "0  Afghanistan    0.0195   0.00985\n",
       "1      Albania    0.0156   0.01180\n",
       "2      Algeria    0.0352   0.05270"
      ]
     },
     "execution_count": 13,
     "metadata": {},
     "output_type": "execute_result"
    }
   ],
   "source": [
    "df_gms = import_csv('military_expenditure_percent_of_gdp.csv', ['country', '2010','2018'], '2010','gms_2010','2018','gms_2018')\n",
    "df_gms.head(3)"
   ]
  },
  {
   "cell_type": "markdown",
   "metadata": {},
   "source": [
    "#### Corruption Perception Index\n",
    "Load the dataset of Transparency International score of perceived corruption. Higher values indicate less corruption."
   ]
  },
  {
   "cell_type": "code",
   "execution_count": 14,
   "metadata": {},
   "outputs": [
    {
     "data": {
      "text/html": [
       "<div>\n",
       "<style scoped>\n",
       "    .dataframe tbody tr th:only-of-type {\n",
       "        vertical-align: middle;\n",
       "    }\n",
       "\n",
       "    .dataframe tbody tr th {\n",
       "        vertical-align: top;\n",
       "    }\n",
       "\n",
       "    .dataframe thead th {\n",
       "        text-align: right;\n",
       "    }\n",
       "</style>\n",
       "<table border=\"1\" class=\"dataframe\">\n",
       "  <thead>\n",
       "    <tr style=\"text-align: right;\">\n",
       "      <th></th>\n",
       "      <th>country</th>\n",
       "      <th>pci_2012</th>\n",
       "      <th>pci_2017</th>\n",
       "    </tr>\n",
       "  </thead>\n",
       "  <tbody>\n",
       "    <tr>\n",
       "      <th>0</th>\n",
       "      <td>Afghanistan</td>\n",
       "      <td>8.0</td>\n",
       "      <td>15</td>\n",
       "    </tr>\n",
       "    <tr>\n",
       "      <th>1</th>\n",
       "      <td>Albania</td>\n",
       "      <td>33.0</td>\n",
       "      <td>38</td>\n",
       "    </tr>\n",
       "    <tr>\n",
       "      <th>2</th>\n",
       "      <td>Algeria</td>\n",
       "      <td>34.0</td>\n",
       "      <td>33</td>\n",
       "    </tr>\n",
       "  </tbody>\n",
       "</table>\n",
       "</div>"
      ],
      "text/plain": [
       "       country  pci_2012  pci_2017\n",
       "0  Afghanistan       8.0        15\n",
       "1      Albania      33.0        38\n",
       "2      Algeria      34.0        33"
      ]
     },
     "execution_count": 14,
     "metadata": {},
     "output_type": "execute_result"
    }
   ],
   "source": [
    "df_pci = import_csv('corruption_perception_index_cpi.csv', ['country', '2012','2017'], '2012','pci_2012','2017','pci_2017')\n",
    "df_pci.head(3)"
   ]
  },
  {
   "cell_type": "markdown",
   "metadata": {},
   "source": [
    "### Data Cleaning"
   ]
  },
  {
   "cell_type": "markdown",
   "metadata": {
    "collapsed": true
   },
   "source": [
    "#### Merge all the separate datasets into one dataset\n",
    "I will perform the merger based on the 'country' column. For the merger I will use the `reduce` function.\n"
   ]
  },
  {
   "cell_type": "code",
   "execution_count": 15,
   "metadata": {},
   "outputs": [
    {
     "data": {
      "text/html": [
       "<div>\n",
       "<style scoped>\n",
       "    .dataframe tbody tr th:only-of-type {\n",
       "        vertical-align: middle;\n",
       "    }\n",
       "\n",
       "    .dataframe tbody tr th {\n",
       "        vertical-align: top;\n",
       "    }\n",
       "\n",
       "    .dataframe thead th {\n",
       "        text-align: right;\n",
       "    }\n",
       "</style>\n",
       "<table border=\"1\" class=\"dataframe\">\n",
       "  <thead>\n",
       "    <tr style=\"text-align: right;\">\n",
       "      <th></th>\n",
       "      <th>country</th>\n",
       "      <th>region</th>\n",
       "      <th>gdp_2010</th>\n",
       "      <th>gdp_2018</th>\n",
       "      <th>le_2010</th>\n",
       "      <th>le_2018</th>\n",
       "      <th>pg_2010</th>\n",
       "      <th>pg_2018</th>\n",
       "      <th>ineq_2010</th>\n",
       "      <th>ineq_2018</th>\n",
       "      <th>hdi_2010</th>\n",
       "      <th>hdi_2015</th>\n",
       "      <th>demox_2010</th>\n",
       "      <th>demox_2018</th>\n",
       "      <th>gms_2010</th>\n",
       "      <th>gms_2018</th>\n",
       "      <th>pci_2012</th>\n",
       "      <th>pci_2017</th>\n",
       "    </tr>\n",
       "  </thead>\n",
       "  <tbody>\n",
       "    <tr>\n",
       "      <th>0</th>\n",
       "      <td>Afghanistan</td>\n",
       "      <td>Western Asia</td>\n",
       "      <td>1640.0</td>\n",
       "      <td>1970.0</td>\n",
       "      <td>59.9</td>\n",
       "      <td>63.7</td>\n",
       "      <td>0.02750</td>\n",
       "      <td>0.02380</td>\n",
       "      <td>36.8</td>\n",
       "      <td>36.8</td>\n",
       "      <td>0.454</td>\n",
       "      <td>0.479</td>\n",
       "      <td>0.248</td>\n",
       "      <td>0.297</td>\n",
       "      <td>0.0195</td>\n",
       "      <td>0.00985</td>\n",
       "      <td>8.0</td>\n",
       "      <td>15.0</td>\n",
       "    </tr>\n",
       "    <tr>\n",
       "      <th>1</th>\n",
       "      <td>Albania</td>\n",
       "      <td>Eastern Europe</td>\n",
       "      <td>9530.0</td>\n",
       "      <td>13400.0</td>\n",
       "      <td>77.6</td>\n",
       "      <td>78.3</td>\n",
       "      <td>-0.00496</td>\n",
       "      <td>-0.00247</td>\n",
       "      <td>29.5</td>\n",
       "      <td>29.0</td>\n",
       "      <td>0.738</td>\n",
       "      <td>0.764</td>\n",
       "      <td>0.586</td>\n",
       "      <td>0.598</td>\n",
       "      <td>0.0156</td>\n",
       "      <td>0.01180</td>\n",
       "      <td>33.0</td>\n",
       "      <td>38.0</td>\n",
       "    </tr>\n",
       "    <tr>\n",
       "      <th>2</th>\n",
       "      <td>Algeria</td>\n",
       "      <td>Northern Africa</td>\n",
       "      <td>12600.0</td>\n",
       "      <td>NaN</td>\n",
       "      <td>76.3</td>\n",
       "      <td>77.9</td>\n",
       "      <td>0.01810</td>\n",
       "      <td>0.02010</td>\n",
       "      <td>28.5</td>\n",
       "      <td>27.6</td>\n",
       "      <td>0.724</td>\n",
       "      <td>0.745</td>\n",
       "      <td>0.344</td>\n",
       "      <td>0.350</td>\n",
       "      <td>0.0352</td>\n",
       "      <td>0.05270</td>\n",
       "      <td>34.0</td>\n",
       "      <td>33.0</td>\n",
       "    </tr>\n",
       "  </tbody>\n",
       "</table>\n",
       "</div>"
      ],
      "text/plain": [
       "       country           region  gdp_2010  gdp_2018  le_2010  le_2018  \\\n",
       "0  Afghanistan     Western Asia    1640.0    1970.0     59.9     63.7   \n",
       "1      Albania   Eastern Europe    9530.0   13400.0     77.6     78.3   \n",
       "2      Algeria  Northern Africa   12600.0       NaN     76.3     77.9   \n",
       "\n",
       "   pg_2010  pg_2018  ineq_2010  ineq_2018  hdi_2010  hdi_2015  demox_2010  \\\n",
       "0  0.02750  0.02380       36.8       36.8     0.454     0.479       0.248   \n",
       "1 -0.00496 -0.00247       29.5       29.0     0.738     0.764       0.586   \n",
       "2  0.01810  0.02010       28.5       27.6     0.724     0.745       0.344   \n",
       "\n",
       "   demox_2018  gms_2010  gms_2018  pci_2012  pci_2017  \n",
       "0       0.297    0.0195   0.00985       8.0      15.0  \n",
       "1       0.598    0.0156   0.01180      33.0      38.0  \n",
       "2       0.350    0.0352   0.05270      34.0      33.0  "
      ]
     },
     "execution_count": 15,
     "metadata": {},
     "output_type": "execute_result"
    }
   ],
   "source": [
    "# Create the list of all dataframes:\n",
    "dataframes = [df_region, df_gdp, df_le, df_pg, df_ineq, df_hdi, df_demox, df_gms, df_pci]\n",
    "df_gap = reduce(lambda left,right: pd.merge(left,right,on=['country'],\n",
    "                                            how='outer'), dataframes)\n",
    "df_gap.head(3)"
   ]
  },
  {
   "cell_type": "markdown",
   "metadata": {},
   "source": [
    "#### Convert proportions to percentage for indicators\n",
    "\n",
    "I noticed that some indicators, including:\n",
    "- population growth\n",
    "- human development index\n",
    "- democracy index\n",
    "- government military spending\n",
    "\n",
    "are expressed as proportions. To scale the indicators down to the same scale, I will multiply the proportion-expressed indicators by 100."
   ]
  },
  {
   "cell_type": "code",
   "execution_count": 16,
   "metadata": {
    "scrolled": false
   },
   "outputs": [
    {
     "data": {
      "text/html": [
       "<div>\n",
       "<style scoped>\n",
       "    .dataframe tbody tr th:only-of-type {\n",
       "        vertical-align: middle;\n",
       "    }\n",
       "\n",
       "    .dataframe tbody tr th {\n",
       "        vertical-align: top;\n",
       "    }\n",
       "\n",
       "    .dataframe thead th {\n",
       "        text-align: right;\n",
       "    }\n",
       "</style>\n",
       "<table border=\"1\" class=\"dataframe\">\n",
       "  <thead>\n",
       "    <tr style=\"text-align: right;\">\n",
       "      <th></th>\n",
       "      <th>country</th>\n",
       "      <th>region</th>\n",
       "      <th>gdp_2010</th>\n",
       "      <th>gdp_2018</th>\n",
       "      <th>le_2010</th>\n",
       "      <th>le_2018</th>\n",
       "      <th>pg_2010</th>\n",
       "      <th>pg_2018</th>\n",
       "      <th>ineq_2010</th>\n",
       "      <th>ineq_2018</th>\n",
       "      <th>hdi_2010</th>\n",
       "      <th>hdi_2015</th>\n",
       "      <th>demox_2010</th>\n",
       "      <th>demox_2018</th>\n",
       "      <th>gms_2010</th>\n",
       "      <th>gms_2018</th>\n",
       "      <th>pci_2012</th>\n",
       "      <th>pci_2017</th>\n",
       "    </tr>\n",
       "  </thead>\n",
       "  <tbody>\n",
       "    <tr>\n",
       "      <th>0</th>\n",
       "      <td>Afghanistan</td>\n",
       "      <td>Western Asia</td>\n",
       "      <td>1640.0</td>\n",
       "      <td>1970.0</td>\n",
       "      <td>59.9</td>\n",
       "      <td>63.7</td>\n",
       "      <td>2.750</td>\n",
       "      <td>2.380</td>\n",
       "      <td>36.8</td>\n",
       "      <td>36.8</td>\n",
       "      <td>45.4</td>\n",
       "      <td>47.9</td>\n",
       "      <td>24.8</td>\n",
       "      <td>29.7</td>\n",
       "      <td>1.95</td>\n",
       "      <td>0.985</td>\n",
       "      <td>8.0</td>\n",
       "      <td>15.0</td>\n",
       "    </tr>\n",
       "    <tr>\n",
       "      <th>1</th>\n",
       "      <td>Albania</td>\n",
       "      <td>Eastern Europe</td>\n",
       "      <td>9530.0</td>\n",
       "      <td>13400.0</td>\n",
       "      <td>77.6</td>\n",
       "      <td>78.3</td>\n",
       "      <td>-0.496</td>\n",
       "      <td>-0.247</td>\n",
       "      <td>29.5</td>\n",
       "      <td>29.0</td>\n",
       "      <td>73.8</td>\n",
       "      <td>76.4</td>\n",
       "      <td>58.6</td>\n",
       "      <td>59.8</td>\n",
       "      <td>1.56</td>\n",
       "      <td>1.180</td>\n",
       "      <td>33.0</td>\n",
       "      <td>38.0</td>\n",
       "    </tr>\n",
       "    <tr>\n",
       "      <th>2</th>\n",
       "      <td>Algeria</td>\n",
       "      <td>Northern Africa</td>\n",
       "      <td>12600.0</td>\n",
       "      <td>NaN</td>\n",
       "      <td>76.3</td>\n",
       "      <td>77.9</td>\n",
       "      <td>1.810</td>\n",
       "      <td>2.010</td>\n",
       "      <td>28.5</td>\n",
       "      <td>27.6</td>\n",
       "      <td>72.4</td>\n",
       "      <td>74.5</td>\n",
       "      <td>34.4</td>\n",
       "      <td>35.0</td>\n",
       "      <td>3.52</td>\n",
       "      <td>5.270</td>\n",
       "      <td>34.0</td>\n",
       "      <td>33.0</td>\n",
       "    </tr>\n",
       "  </tbody>\n",
       "</table>\n",
       "</div>"
      ],
      "text/plain": [
       "       country           region  gdp_2010  gdp_2018  le_2010  le_2018  \\\n",
       "0  Afghanistan     Western Asia    1640.0    1970.0     59.9     63.7   \n",
       "1      Albania   Eastern Europe    9530.0   13400.0     77.6     78.3   \n",
       "2      Algeria  Northern Africa   12600.0       NaN     76.3     77.9   \n",
       "\n",
       "   pg_2010  pg_2018  ineq_2010  ineq_2018  hdi_2010  hdi_2015  demox_2010  \\\n",
       "0    2.750    2.380       36.8       36.8      45.4      47.9        24.8   \n",
       "1   -0.496   -0.247       29.5       29.0      73.8      76.4        58.6   \n",
       "2    1.810    2.010       28.5       27.6      72.4      74.5        34.4   \n",
       "\n",
       "   demox_2018  gms_2010  gms_2018  pci_2012  pci_2017  \n",
       "0        29.7      1.95     0.985       8.0      15.0  \n",
       "1        59.8      1.56     1.180      33.0      38.0  \n",
       "2        35.0      3.52     5.270      34.0      33.0  "
      ]
     },
     "execution_count": 16,
     "metadata": {},
     "output_type": "execute_result"
    }
   ],
   "source": [
    "# Write a function to convert proportions to percentage\n",
    "def to_percentage(df, list_of_columns):\n",
    "    for column in list_of_columns:\n",
    "        df[column] = 100.00 * df[column]\n",
    "    return df\n",
    "\n",
    "# Convert the proportion-based indicators to percentage-based indicators\n",
    "list_of_columns = ['pg_2010', 'pg_2018', 'hdi_2010', 'hdi_2015', 'demox_2010', 'demox_2018', 'gms_2010', 'gms_2018']\n",
    "to_percentage(df_gap, list_of_columns)\n",
    "df_gap.head(3)"
   ]
  },
  {
   "cell_type": "markdown",
   "metadata": {},
   "source": [
    "#### Drop all rows with NaN values"
   ]
  },
  {
   "cell_type": "code",
   "execution_count": 17,
   "metadata": {},
   "outputs": [
    {
     "name": "stdout",
     "output_type": "stream",
     "text": [
      "<class 'pandas.core.frame.DataFrame'>\n",
      "Int64Index: 198 entries, 0 to 197\n",
      "Data columns (total 18 columns):\n",
      " #   Column      Non-Null Count  Dtype  \n",
      "---  ------      --------------  -----  \n",
      " 0   country     198 non-null    object \n",
      " 1   region      197 non-null    object \n",
      " 2   gdp_2010    184 non-null    float64\n",
      " 3   gdp_2018    179 non-null    float64\n",
      " 4   le_2010     187 non-null    float64\n",
      " 5   le_2018     184 non-null    float64\n",
      " 6   pg_2010     193 non-null    float64\n",
      " 7   pg_2018     192 non-null    float64\n",
      " 8   ineq_2010   195 non-null    float64\n",
      " 9   ineq_2018   195 non-null    float64\n",
      " 10  hdi_2010    187 non-null    float64\n",
      " 11  hdi_2015    187 non-null    float64\n",
      " 12  demox_2010  164 non-null    float64\n",
      " 13  demox_2018  164 non-null    float64\n",
      " 14  gms_2010    149 non-null    float64\n",
      " 15  gms_2018    149 non-null    float64\n",
      " 16  pci_2012    172 non-null    float64\n",
      " 17  pci_2017    177 non-null    float64\n",
      "dtypes: float64(16), object(2)\n",
      "memory usage: 29.4+ KB\n"
     ]
    }
   ],
   "source": [
    "df_gap.info()"
   ]
  },
  {
   "cell_type": "code",
   "execution_count": 18,
   "metadata": {},
   "outputs": [
    {
     "name": "stdout",
     "output_type": "stream",
     "text": [
      "<class 'pandas.core.frame.DataFrame'>\n",
      "Int64Index: 130 entries, 0 to 195\n",
      "Data columns (total 18 columns):\n",
      " #   Column      Non-Null Count  Dtype  \n",
      "---  ------      --------------  -----  \n",
      " 0   country     130 non-null    object \n",
      " 1   region      130 non-null    object \n",
      " 2   gdp_2010    130 non-null    float64\n",
      " 3   gdp_2018    130 non-null    float64\n",
      " 4   le_2010     130 non-null    float64\n",
      " 5   le_2018     130 non-null    float64\n",
      " 6   pg_2010     130 non-null    float64\n",
      " 7   pg_2018     130 non-null    float64\n",
      " 8   ineq_2010   130 non-null    float64\n",
      " 9   ineq_2018   130 non-null    float64\n",
      " 10  hdi_2010    130 non-null    float64\n",
      " 11  hdi_2015    130 non-null    float64\n",
      " 12  demox_2010  130 non-null    float64\n",
      " 13  demox_2018  130 non-null    float64\n",
      " 14  gms_2010    130 non-null    float64\n",
      " 15  gms_2018    130 non-null    float64\n",
      " 16  pci_2012    130 non-null    float64\n",
      " 17  pci_2017    130 non-null    float64\n",
      "dtypes: float64(16), object(2)\n",
      "memory usage: 19.3+ KB\n"
     ]
    }
   ],
   "source": [
    "df_gap_clean = df_gap.dropna()\n",
    "df_gap_clean.info()"
   ]
  },
  {
   "cell_type": "markdown",
   "metadata": {},
   "source": [
    "#### The cleaned dataset now looks like this."
   ]
  },
  {
   "cell_type": "code",
   "execution_count": 19,
   "metadata": {},
   "outputs": [
    {
     "data": {
      "text/html": [
       "<div>\n",
       "<style scoped>\n",
       "    .dataframe tbody tr th:only-of-type {\n",
       "        vertical-align: middle;\n",
       "    }\n",
       "\n",
       "    .dataframe tbody tr th {\n",
       "        vertical-align: top;\n",
       "    }\n",
       "\n",
       "    .dataframe thead th {\n",
       "        text-align: right;\n",
       "    }\n",
       "</style>\n",
       "<table border=\"1\" class=\"dataframe\">\n",
       "  <thead>\n",
       "    <tr style=\"text-align: right;\">\n",
       "      <th></th>\n",
       "      <th>country</th>\n",
       "      <th>region</th>\n",
       "      <th>gdp_2010</th>\n",
       "      <th>gdp_2018</th>\n",
       "      <th>le_2010</th>\n",
       "      <th>le_2018</th>\n",
       "      <th>pg_2010</th>\n",
       "      <th>pg_2018</th>\n",
       "      <th>ineq_2010</th>\n",
       "      <th>ineq_2018</th>\n",
       "      <th>hdi_2010</th>\n",
       "      <th>hdi_2015</th>\n",
       "      <th>demox_2010</th>\n",
       "      <th>demox_2018</th>\n",
       "      <th>gms_2010</th>\n",
       "      <th>gms_2018</th>\n",
       "      <th>pci_2012</th>\n",
       "      <th>pci_2017</th>\n",
       "    </tr>\n",
       "  </thead>\n",
       "  <tbody>\n",
       "    <tr>\n",
       "      <th>0</th>\n",
       "      <td>Afghanistan</td>\n",
       "      <td>Western Asia</td>\n",
       "      <td>1640.0</td>\n",
       "      <td>1970.0</td>\n",
       "      <td>59.9</td>\n",
       "      <td>63.7</td>\n",
       "      <td>2.750</td>\n",
       "      <td>2.380</td>\n",
       "      <td>36.8</td>\n",
       "      <td>36.8</td>\n",
       "      <td>45.4</td>\n",
       "      <td>47.9</td>\n",
       "      <td>24.8</td>\n",
       "      <td>29.7</td>\n",
       "      <td>1.95</td>\n",
       "      <td>0.985</td>\n",
       "      <td>8.0</td>\n",
       "      <td>15.0</td>\n",
       "    </tr>\n",
       "    <tr>\n",
       "      <th>1</th>\n",
       "      <td>Albania</td>\n",
       "      <td>Eastern Europe</td>\n",
       "      <td>9530.0</td>\n",
       "      <td>13400.0</td>\n",
       "      <td>77.6</td>\n",
       "      <td>78.3</td>\n",
       "      <td>-0.496</td>\n",
       "      <td>-0.247</td>\n",
       "      <td>29.5</td>\n",
       "      <td>29.0</td>\n",
       "      <td>73.8</td>\n",
       "      <td>76.4</td>\n",
       "      <td>58.6</td>\n",
       "      <td>59.8</td>\n",
       "      <td>1.56</td>\n",
       "      <td>1.180</td>\n",
       "      <td>33.0</td>\n",
       "      <td>38.0</td>\n",
       "    </tr>\n",
       "    <tr>\n",
       "      <th>4</th>\n",
       "      <td>Angola</td>\n",
       "      <td>Sub Saharan Africa</td>\n",
       "      <td>5630.0</td>\n",
       "      <td>6170.0</td>\n",
       "      <td>59.9</td>\n",
       "      <td>64.6</td>\n",
       "      <td>3.670</td>\n",
       "      <td>3.280</td>\n",
       "      <td>42.9</td>\n",
       "      <td>42.6</td>\n",
       "      <td>49.5</td>\n",
       "      <td>53.3</td>\n",
       "      <td>33.2</td>\n",
       "      <td>36.2</td>\n",
       "      <td>4.18</td>\n",
       "      <td>1.780</td>\n",
       "      <td>22.0</td>\n",
       "      <td>19.0</td>\n",
       "    </tr>\n",
       "  </tbody>\n",
       "</table>\n",
       "</div>"
      ],
      "text/plain": [
       "       country              region  gdp_2010  gdp_2018  le_2010  le_2018  \\\n",
       "0  Afghanistan        Western Asia    1640.0    1970.0     59.9     63.7   \n",
       "1      Albania      Eastern Europe    9530.0   13400.0     77.6     78.3   \n",
       "4       Angola  Sub Saharan Africa    5630.0    6170.0     59.9     64.6   \n",
       "\n",
       "   pg_2010  pg_2018  ineq_2010  ineq_2018  hdi_2010  hdi_2015  demox_2010  \\\n",
       "0    2.750    2.380       36.8       36.8      45.4      47.9        24.8   \n",
       "1   -0.496   -0.247       29.5       29.0      73.8      76.4        58.6   \n",
       "4    3.670    3.280       42.9       42.6      49.5      53.3        33.2   \n",
       "\n",
       "   demox_2018  gms_2010  gms_2018  pci_2012  pci_2017  \n",
       "0        29.7      1.95     0.985       8.0      15.0  \n",
       "1        59.8      1.56     1.180      33.0      38.0  \n",
       "4        36.2      4.18     1.780      22.0      19.0  "
      ]
     },
     "execution_count": 19,
     "metadata": {},
     "output_type": "execute_result"
    }
   ],
   "source": [
    "df_gap_clean.head(3)"
   ]
  },
  {
   "cell_type": "markdown",
   "metadata": {},
   "source": [
    "<a id='eda'></a>\n",
    "## Exploratory Data Analysis\n",
    "\n",
    "In this section I will use the clean dataset to answer the following questions about economis and social development of the world with particular focus on Guatemala, Germany and the US:\n",
    "<ul>\n",
    "<li><a href = \"#question1\">Section 1: General developments:</a></li>\n",
    "<ul><li>What changes can be generally seen in the development of Gapminder indicators in 2018 compared to 2010?</li>\n",
    "<li>How is income distributed among the regions?</li>\n",
    "<li>How is the population growing by regions?</li>\n",
    "<li>How does Guatemala stand to Germany and the United States in terms of GPD per capita?</li> \n",
    "<li>How did the inequality, human development, democracy and corruption perception indices changed over this period?</li></ul>\n",
    "\n",
    "<li><a href = \"#question2\">Section 2: Are there tentative correlations between the following indicators:</a></li>\n",
    "    <ul><li>Life expectancy and GPD per capita?</li>\n",
    "        <li>Level of democracy and GDP per capita?</li>\n",
    "        <li>Level of corruption and GDP per capita?</li>\n",
    "        <li>Human development index and level of democracy?</li>\n",
    "        <li>Government military expenditures and the level of democracy?</li>\n",
    "        <li>Level of democracy and level of inequality</li>\n",
    "        <li>How does Guatemala stand compared to Germany and the United States in terms of these indicators?</li></ul>\n",
    "    \n",
    "\n",
    "<li><a href = \"#question3\">Section 3:  What are the developments in the disbribution of income in the world:</a></li>\n",
    "    <ul><li>Is income distributed equally among countries in 2018?</li>\n",
    "        <li>What are the poorest and richest countries?</li>\n",
    "        <li>How has the inequality index changed by regions in 2018 compared to 2010?</li></ul>\n",
    "</ul>\n",
    "\n"
   ]
  },
  {
   "cell_type": "markdown",
   "metadata": {},
   "source": [
    "#### The final dataset contains the following fields:\n",
    "\n",
    "|Column name | Description | Explanation|\n",
    "|:---|:---|:---|\n",
    "| country    | Country | Country |\n",
    "| region    | Region | One of 8 regions |\n",
    "| gdp_2010 | GNI per capita, 2010 | Gross National Income per capita based on Purchasing Power Parity|\n",
    "| gdp_2018 | GNI per capita, 2018 |\n",
    "| le_2010 | life expectancy, 2010 | Life expectancy in years\n",
    "| le_2018 | life expectancy, 2018 |\n",
    "| pg_2010 | population growth, 2010 | Population growth as a % to the previous year's population\n",
    "| pg_2018 | population growth, 2018 |\n",
    "| ineq_2010|inequality index, 2010| A higher index shows more inequality\n",
    "| ineq_2018|inequality index, 2018|\n",
    "|hdi_2010|human development index, 2010| A higher index shows better human development\n",
    "|hdi_2015|human development index, 2015|\n",
    "|demox_2010| democracy index, 2010| A higher index shows more democracy\n",
    "|demox_2018| democracy index, 2018|\n",
    "|gms_2010| government military spending, 2010| Military expenses as % of GDP\n",
    "|gms_2018| government military spendin, 2018|\n",
    "|pci_2012|perceived corruption index, 2012| A higher index shows less corruption\n",
    "|pci_2017|perceived corruption index, 2017|"
   ]
  },
  {
   "cell_type": "markdown",
   "metadata": {},
   "source": [
    "<a id='question1'></a>\n",
    "### Section 1:  General developments in the world in 2018 compared to 2010\n",
    "\n",
    "#### What changes can be generally seen in the development of Gapminder indicators in 2018 compared to 2010?\n",
    "\n",
    "First, I will figure out tentative tendencies using the summary information about the dataset. "
   ]
  },
  {
   "cell_type": "code",
   "execution_count": 20,
   "metadata": {
    "scrolled": true
   },
   "outputs": [
    {
     "data": {
      "text/html": [
       "<div>\n",
       "<style scoped>\n",
       "    .dataframe tbody tr th:only-of-type {\n",
       "        vertical-align: middle;\n",
       "    }\n",
       "\n",
       "    .dataframe tbody tr th {\n",
       "        vertical-align: top;\n",
       "    }\n",
       "\n",
       "    .dataframe thead th {\n",
       "        text-align: right;\n",
       "    }\n",
       "</style>\n",
       "<table border=\"1\" class=\"dataframe\">\n",
       "  <thead>\n",
       "    <tr style=\"text-align: right;\">\n",
       "      <th></th>\n",
       "      <th>gdp_2010</th>\n",
       "      <th>gdp_2018</th>\n",
       "      <th>le_2010</th>\n",
       "      <th>le_2018</th>\n",
       "      <th>pg_2010</th>\n",
       "      <th>pg_2018</th>\n",
       "      <th>ineq_2010</th>\n",
       "      <th>ineq_2018</th>\n",
       "      <th>hdi_2010</th>\n",
       "      <th>hdi_2015</th>\n",
       "      <th>demox_2010</th>\n",
       "      <th>demox_2018</th>\n",
       "      <th>gms_2010</th>\n",
       "      <th>gms_2018</th>\n",
       "      <th>pci_2012</th>\n",
       "      <th>pci_2017</th>\n",
       "    </tr>\n",
       "  </thead>\n",
       "  <tbody>\n",
       "    <tr>\n",
       "      <th>count</th>\n",
       "      <td>130.000000</td>\n",
       "      <td>130.000000</td>\n",
       "      <td>130.000000</td>\n",
       "      <td>130.000000</td>\n",
       "      <td>130.000000</td>\n",
       "      <td>130.000000</td>\n",
       "      <td>130.000000</td>\n",
       "      <td>130.000000</td>\n",
       "      <td>130.000000</td>\n",
       "      <td>130.000000</td>\n",
       "      <td>130.000000</td>\n",
       "      <td>130.000000</td>\n",
       "      <td>130.000000</td>\n",
       "      <td>130.000000</td>\n",
       "      <td>130.000000</td>\n",
       "      <td>130.000000</td>\n",
       "    </tr>\n",
       "    <tr>\n",
       "      <th>mean</th>\n",
       "      <td>16713.384615</td>\n",
       "      <td>22066.615385</td>\n",
       "      <td>71.147692</td>\n",
       "      <td>73.824615</td>\n",
       "      <td>1.389269</td>\n",
       "      <td>1.293885</td>\n",
       "      <td>38.724615</td>\n",
       "      <td>38.376923</td>\n",
       "      <td>69.300000</td>\n",
       "      <td>71.405385</td>\n",
       "      <td>59.674615</td>\n",
       "      <td>59.684615</td>\n",
       "      <td>1.830015</td>\n",
       "      <td>1.771262</td>\n",
       "      <td>44.823077</td>\n",
       "      <td>45.115385</td>\n",
       "    </tr>\n",
       "    <tr>\n",
       "      <th>std</th>\n",
       "      <td>16310.932015</td>\n",
       "      <td>20283.193239</td>\n",
       "      <td>9.127412</td>\n",
       "      <td>7.285167</td>\n",
       "      <td>1.368253</td>\n",
       "      <td>1.144570</td>\n",
       "      <td>8.332863</td>\n",
       "      <td>8.009815</td>\n",
       "      <td>16.306417</td>\n",
       "      <td>15.814047</td>\n",
       "      <td>20.404416</td>\n",
       "      <td>20.129855</td>\n",
       "      <td>1.355063</td>\n",
       "      <td>1.339054</td>\n",
       "      <td>19.051731</td>\n",
       "      <td>18.597589</td>\n",
       "    </tr>\n",
       "    <tr>\n",
       "      <th>min</th>\n",
       "      <td>620.000000</td>\n",
       "      <td>900.000000</td>\n",
       "      <td>46.000000</td>\n",
       "      <td>52.400000</td>\n",
       "      <td>-2.100000</td>\n",
       "      <td>-0.954000</td>\n",
       "      <td>24.800000</td>\n",
       "      <td>25.000000</td>\n",
       "      <td>32.300000</td>\n",
       "      <td>35.200000</td>\n",
       "      <td>15.200000</td>\n",
       "      <td>14.900000</td>\n",
       "      <td>0.000000</td>\n",
       "      <td>0.000000</td>\n",
       "      <td>8.000000</td>\n",
       "      <td>15.000000</td>\n",
       "    </tr>\n",
       "    <tr>\n",
       "      <th>25%</th>\n",
       "      <td>3975.000000</td>\n",
       "      <td>5477.500000</td>\n",
       "      <td>64.300000</td>\n",
       "      <td>68.800000</td>\n",
       "      <td>0.465250</td>\n",
       "      <td>0.471250</td>\n",
       "      <td>32.225000</td>\n",
       "      <td>32.400000</td>\n",
       "      <td>55.500000</td>\n",
       "      <td>58.225000</td>\n",
       "      <td>41.275000</td>\n",
       "      <td>43.875000</td>\n",
       "      <td>0.985250</td>\n",
       "      <td>0.982500</td>\n",
       "      <td>31.250000</td>\n",
       "      <td>31.000000</td>\n",
       "    </tr>\n",
       "    <tr>\n",
       "      <th>50%</th>\n",
       "      <td>11100.000000</td>\n",
       "      <td>15250.000000</td>\n",
       "      <td>74.000000</td>\n",
       "      <td>75.300000</td>\n",
       "      <td>1.240000</td>\n",
       "      <td>1.245000</td>\n",
       "      <td>37.500000</td>\n",
       "      <td>37.550000</td>\n",
       "      <td>72.300000</td>\n",
       "      <td>74.250000</td>\n",
       "      <td>62.150000</td>\n",
       "      <td>62.600000</td>\n",
       "      <td>1.500000</td>\n",
       "      <td>1.420000</td>\n",
       "      <td>38.000000</td>\n",
       "      <td>39.500000</td>\n",
       "    </tr>\n",
       "    <tr>\n",
       "      <th>75%</th>\n",
       "      <td>26200.000000</td>\n",
       "      <td>34000.000000</td>\n",
       "      <td>78.175000</td>\n",
       "      <td>79.575000</td>\n",
       "      <td>2.280000</td>\n",
       "      <td>2.020000</td>\n",
       "      <td>43.950000</td>\n",
       "      <td>42.925000</td>\n",
       "      <td>82.075000</td>\n",
       "      <td>84.650000</td>\n",
       "      <td>76.600000</td>\n",
       "      <td>75.675000</td>\n",
       "      <td>2.295000</td>\n",
       "      <td>2.082500</td>\n",
       "      <td>55.750000</td>\n",
       "      <td>56.750000</td>\n",
       "    </tr>\n",
       "    <tr>\n",
       "      <th>max</th>\n",
       "      <td>79200.000000</td>\n",
       "      <td>94700.000000</td>\n",
       "      <td>83.200000</td>\n",
       "      <td>85.000000</td>\n",
       "      <td>5.880000</td>\n",
       "      <td>4.920000</td>\n",
       "      <td>63.300000</td>\n",
       "      <td>63.000000</td>\n",
       "      <td>93.900000</td>\n",
       "      <td>94.900000</td>\n",
       "      <td>98.000000</td>\n",
       "      <td>98.700000</td>\n",
       "      <td>8.570000</td>\n",
       "      <td>8.770000</td>\n",
       "      <td>90.000000</td>\n",
       "      <td>89.000000</td>\n",
       "    </tr>\n",
       "  </tbody>\n",
       "</table>\n",
       "</div>"
      ],
      "text/plain": [
       "           gdp_2010      gdp_2018     le_2010     le_2018     pg_2010  \\\n",
       "count    130.000000    130.000000  130.000000  130.000000  130.000000   \n",
       "mean   16713.384615  22066.615385   71.147692   73.824615    1.389269   \n",
       "std    16310.932015  20283.193239    9.127412    7.285167    1.368253   \n",
       "min      620.000000    900.000000   46.000000   52.400000   -2.100000   \n",
       "25%     3975.000000   5477.500000   64.300000   68.800000    0.465250   \n",
       "50%    11100.000000  15250.000000   74.000000   75.300000    1.240000   \n",
       "75%    26200.000000  34000.000000   78.175000   79.575000    2.280000   \n",
       "max    79200.000000  94700.000000   83.200000   85.000000    5.880000   \n",
       "\n",
       "          pg_2018   ineq_2010   ineq_2018    hdi_2010    hdi_2015  demox_2010  \\\n",
       "count  130.000000  130.000000  130.000000  130.000000  130.000000  130.000000   \n",
       "mean     1.293885   38.724615   38.376923   69.300000   71.405385   59.674615   \n",
       "std      1.144570    8.332863    8.009815   16.306417   15.814047   20.404416   \n",
       "min     -0.954000   24.800000   25.000000   32.300000   35.200000   15.200000   \n",
       "25%      0.471250   32.225000   32.400000   55.500000   58.225000   41.275000   \n",
       "50%      1.245000   37.500000   37.550000   72.300000   74.250000   62.150000   \n",
       "75%      2.020000   43.950000   42.925000   82.075000   84.650000   76.600000   \n",
       "max      4.920000   63.300000   63.000000   93.900000   94.900000   98.000000   \n",
       "\n",
       "       demox_2018    gms_2010    gms_2018    pci_2012    pci_2017  \n",
       "count  130.000000  130.000000  130.000000  130.000000  130.000000  \n",
       "mean    59.684615    1.830015    1.771262   44.823077   45.115385  \n",
       "std     20.129855    1.355063    1.339054   19.051731   18.597589  \n",
       "min     14.900000    0.000000    0.000000    8.000000   15.000000  \n",
       "25%     43.875000    0.985250    0.982500   31.250000   31.000000  \n",
       "50%     62.600000    1.500000    1.420000   38.000000   39.500000  \n",
       "75%     75.675000    2.295000    2.082500   55.750000   56.750000  \n",
       "max     98.700000    8.570000    8.770000   90.000000   89.000000  "
      ]
     },
     "execution_count": 20,
     "metadata": {},
     "output_type": "execute_result"
    }
   ],
   "source": [
    "df_gap_clean.describe()"
   ]
  },
  {
   "cell_type": "markdown",
   "metadata": {},
   "source": [
    "From the summary information we can see the following tentative changes in the indicators in 2018 (2015 for human development index and 2017 for perceived corruption index) compared to 2010:\n",
    "- improved: income per capita, life expectancy, inequality index, human development index, government military spending, perceived corruption index\n",
    "- stayed about the same: democracy index\n",
    "- worsened: population growth\n",
    "\n",
    "#### How did the average GPD per capita changed in 2018 compared to 2010?\n",
    "\n",
    "In the plot below I will visualise the changes in the average GDP per capita in 2018 compared to 2010. "
   ]
  },
  {
   "cell_type": "code",
   "execution_count": 21,
   "metadata": {},
   "outputs": [],
   "source": [
    "gdp_2010_mean = df_gap_clean['gdp_2010'].mean()\n",
    "gdp_2018_mean = df_gap_clean['gdp_2018'].mean()"
   ]
  },
  {
   "cell_type": "code",
   "execution_count": 22,
   "metadata": {},
   "outputs": [
    {
     "data": {
      "image/png": "[encoded data removed]",
      "text/plain": [
       "<Figure size 432x288 with 1 Axes>"
      ]
     },
     "metadata": {},
     "output_type": "display_data"
    }
   ],
   "source": [
    "x = ['2010','2018']\n",
    "y = [gdp_2010_mean, gdp_2018_mean]\n",
    "plt.xlabel('Year')\n",
    "plt.ylabel('mean GPD per capita, USD')\n",
    "plt.title('Change in the average GDP per capita')\n",
    "plt.bar(x, y)\n",
    "plt.show()"
   ]
  },
  {
   "cell_type": "markdown",
   "metadata": {},
   "source": [
    "**Conclusion:**"
   ]
  },
  {
   "cell_type": "code",
   "execution_count": 23,
   "metadata": {},
   "outputs": [
    {
     "name": "stdout",
     "output_type": "stream",
     "text": [
      "We can see that the world average GDP per capita has grown from 2010 to 2018 by: 5353 USD.\n"
     ]
    }
   ],
   "source": [
    "print('We can see that the world average GDP per capita has grown from 2010 to 2018 by: {} USD.'.format(round(gdp_2018_mean - gdp_2010_mean),0))"
   ]
  },
  {
   "cell_type": "markdown",
   "metadata": {},
   "source": [
    "#### How is income distributed among the regions?\n",
    "\n",
    "In this section I will plot a histogram showing the growth in the average income per continent in 2018 compared to 2010."
   ]
  },
  {
   "cell_type": "code",
   "execution_count": 24,
   "metadata": {},
   "outputs": [
    {
     "data": {
      "text/plain": [
       "region\n",
       "East Asia Pasific     26262.000000\n",
       "Eastern Europe        25639.523810\n",
       "North America         21180.000000\n",
       "Northern Africa       10876.666667\n",
       "South America         15079.000000\n",
       "Sub Saharan Africa     5218.235294\n",
       "Western Asia          23162.500000\n",
       "Western Europe        50036.842105\n",
       "Name: gdp_2018, dtype: float64"
      ]
     },
     "execution_count": 24,
     "metadata": {},
     "output_type": "execute_result"
    }
   ],
   "source": [
    "gdp_region_2018 = df_gap_clean.groupby('region')['gdp_2018'].mean()\n",
    "gdp_region_2010 = df_gap_clean.groupby('region')['gdp_2010'].mean()\n",
    "gdp_region_2018"
   ]
  },
  {
   "cell_type": "markdown",
   "metadata": {},
   "source": [
    "##### Function to plot categorical data by region by year"
   ]
  },
  {
   "cell_type": "code",
   "execution_count": 25,
   "metadata": {},
   "outputs": [],
   "source": [
    "# Function to plot categorical data\n",
    "\n",
    "def category_bars(df_1, df_2, x_label, y_label, plot_title):\n",
    "    ind = df_1.index\n",
    "    bar_places = np.arange(len(df_1))\n",
    "    width = 0.35\n",
    "    plt.subplots(figsize=(12, 5))\n",
    "    bars_2010 = plt.bar(bar_places, df_1, width, color='r', alpha=.7, label='2010')\n",
    "    bars_2018 = plt.bar(bar_places + width, df_2, width, color='g', alpha=.7, label='2018')\n",
    "\n",
    "    # title and labels\n",
    "    plt.xlabel(x_label)\n",
    "    plt.ylabel(y_label)\n",
    "    plt.title(plot_title)\n",
    "\n",
    "    locations = bar_places + width / 2  # xtick locations\n",
    "    labels = ind  # xtick labels\n",
    "    plt.xticks(locations, labels)\n",
    "    plt.plot(figsize=(18, 15))\n",
    "\n",
    "    # legend\n",
    "    plt.legend()\n",
    "    plt.show();\n"
   ]
  },
  {
   "cell_type": "markdown",
   "metadata": {},
   "source": [
    "##### Let's plot a bar plot comparing GDP per capita by region by year"
   ]
  },
  {
   "cell_type": "code",
   "execution_count": 26,
   "metadata": {},
   "outputs": [
    {
     "data": {
      "image/png": "[encoded data removed]",
      "text/plain": [
       "<Figure size 864x360 with 1 Axes>"
      ]
     },
     "metadata": {},
     "output_type": "display_data"
    }
   ],
   "source": [
    "category_bars(gdp_region_2010, gdp_region_2018, 'Regions', 'Mean GDP per capita, USD', 'Comparison of GDP per capita by region by year')"
   ]
  },
  {
   "cell_type": "markdown",
   "metadata": {},
   "source": [
    "**Conclusion:** Western Europe seems to have the highest GDP per capita followed by East Asia Pasific.\n",
    "As expected, Africa shows the lowest GDP per capita."
   ]
  },
  {
   "cell_type": "markdown",
   "metadata": {},
   "source": [
    "#### How has the population grown by region from 2010 to 2018?<\n",
    "\n",
    "Let's make a bar plot to see how the regions differ by population growth."
   ]
  },
  {
   "cell_type": "code",
   "execution_count": 27,
   "metadata": {},
   "outputs": [
    {
     "data": {
      "text/plain": [
       "region\n",
       "East Asia Pasific     1.075600\n",
       "Eastern Europe       -0.117352\n",
       "North America         1.091750\n",
       "Northern Africa       1.476667\n",
       "South America         1.176800\n",
       "Sub Saharan Africa    2.381194\n",
       "Western Asia          1.952625\n",
       "Western Europe        0.685989\n",
       "Name: pg_2018, dtype: float64"
      ]
     },
     "execution_count": 27,
     "metadata": {},
     "output_type": "execute_result"
    }
   ],
   "source": [
    "gdp_region_pg_2018 = df_gap_clean.groupby('region')['pg_2018'].mean()\n",
    "gdp_region_pg_2010 = df_gap_clean.groupby('region')['pg_2010'].mean()\n",
    "gdp_region_pg_2018"
   ]
  },
  {
   "cell_type": "markdown",
   "metadata": {},
   "source": [
    "##### Let's plot a bar plot comparing the population growth by region by year"
   ]
  },
  {
   "cell_type": "code",
   "execution_count": 28,
   "metadata": {},
   "outputs": [
    {
     "data": {
      "image/png": "[encoded data removed]",
      "text/plain": [
       "<Figure size 864x360 with 1 Axes>"
      ]
     },
     "metadata": {},
     "output_type": "display_data"
    }
   ],
   "source": [
    "category_bars(gdp_region_pg_2010, gdp_region_pg_2018, 'Regions', 'Population growth, % to previous year', 'Comparison of population growth by region by year')"
   ]
  },
  {
   "cell_type": "markdown",
   "metadata": {},
   "source": [
    "**Conclusion:** Western Asia and Africa show the highest population growth. All other regions, but Eastern Europe, show a positive population growth, while Eastern Europe has a negative population growth."
   ]
  },
  {
   "cell_type": "markdown",
   "metadata": {},
   "source": [
    "#### How does Guatemala stand to Germany and the United States in terms of GPD per capita?\n"
   ]
  },
  {
   "cell_type": "code",
   "execution_count": 54,
   "metadata": {},
   "outputs": [
    {
     "data": {
      "text/plain": [
       "63     54600.0\n",
       "67      8310.0\n",
       "186    63700.0\n",
       "Name: gdp_2018, dtype: float64"
      ]
     },
     "execution_count": 54,
     "metadata": {},
     "output_type": "execute_result"
    }
   ],
   "source": [
    "is_three_countries = df_gap_clean['country'].isin(['Guatemala', 'Germany', 'United States'])\n",
    "df_gap_three_countries = df_gap_clean[is_three_countries]\n",
    "gdp_2010_three_countries = df_gap_three_countries['gdp_2010']\n",
    "gdp_2018_three_countries = df_gap_three_countries['gdp_2018']\n",
    "gdp_2018_three_countries"
   ]
  },
  {
   "cell_type": "code",
   "execution_count": 55,
   "metadata": {
    "scrolled": true
   },
   "outputs": [
    {
     "data": {
      "image/png": "[encoded data removed]",
      "text/plain": [
       "<Figure size 864x360 with 1 Axes>"
      ]
     },
     "metadata": {},
     "output_type": "display_data"
    }
   ],
   "source": [
    "ind_three_countries = ['Germany', 'Guatemala', 'United States']\n",
    "bar_places = np.arange(len(gdp_2018_three_countries))\n",
    "width = 0.35\n",
    "plt.subplots(figsize=(12, 5))\n",
    "bars_2010 = plt.bar(bar_places, gdp_2010_three_countries, width, color='r', alpha=.7, label='2010')\n",
    "bars_2018 = plt.bar(bar_places + width, gdp_2018_three_countries, width, color='g', alpha=.7, label = '2018')\n",
    "\n",
    "# title and labels\n",
    "plt.ylabel('Mean GDP per capita, USD')\n",
    "plt.xlabel('Three countries')\n",
    "plt.title('Comparison of GDP per capita by country by year')\n",
    "\n",
    "locations = bar_places + width / 2  # xtick locations\n",
    "labels = ind_three_countries  # xtick labels\n",
    "plt.xticks(locations, labels)\n",
    "\n",
    "plt.legend()\n",
    "plt.show();"
   ]
  },
  {
   "cell_type": "markdown",
   "metadata": {},
   "source": [
    "**Conclusion:** Among the three countries Guatemala has the lowest GDP per capita, Germany being on the second place with the United States having the highest GDP per capita. Both Germany and the United States are way beyond Guatemala."
   ]
  },
  {
   "cell_type": "markdown",
   "metadata": {},
   "source": [
    "#### How did the inequality, human development, democracy and corruption perception indices changed over this period?\n",
    "\n",
    "Let's see the changes in the social indicators on a histogram. \n",
    "\n",
    "These indicators include:\n",
    "- Inequality index\n",
    "- Human development index\n",
    "- Democracy level index and\n",
    "- Corruption perception index\n",
    "\n",
    "To see the changes, let's split our dataset in two, one for 2010 (or 2012) and the other one for 2018 (or 2015, or 2017)."
   ]
  },
  {
   "cell_type": "code",
   "execution_count": 56,
   "metadata": {},
   "outputs": [
    {
     "name": "stderr",
     "output_type": "stream",
     "text": [
      "C:\\ProgramData\\Anaconda3\\lib\\site-packages\\pandas\\core\\frame.py:4133: SettingWithCopyWarning: \n",
      "A value is trying to be set on a copy of a slice from a DataFrame\n",
      "\n",
      "See the caveats in the documentation: https://pandas.pydata.org/pandas-docs/stable/user_guide/indexing.html#returning-a-view-versus-a-copy\n",
      "  errors=errors,\n"
     ]
    },
    {
     "data": {
      "text/plain": [
       "Inequality           38.724615\n",
       "Human Development    69.300000\n",
       "Democracy            59.674615\n",
       "Corruption           44.823077\n",
       "dtype: float64"
      ]
     },
     "execution_count": 56,
     "metadata": {},
     "output_type": "execute_result"
    }
   ],
   "source": [
    "# Create the dataset for 2010 with selected columns\n",
    "columns_2010 = ['ineq_2010','hdi_2010','demox_2010','pci_2012']\n",
    "df_2010 = df_gap_clean[columns_2010]\n",
    "df_2010.rename(columns = {'ineq_2010': 'Inequality','hdi_2010': 'Human Development','demox_2010': 'Democracy','pci_2012': 'Corruption'}, inplace = True)\n",
    "df_2010_mean = df_2010.mean()\n",
    "\n",
    "df_2010_mean"
   ]
  },
  {
   "cell_type": "code",
   "execution_count": 57,
   "metadata": {},
   "outputs": [
    {
     "data": {
      "text/plain": [
       "Inequality           38.376923\n",
       "Human Development    71.405385\n",
       "Democracy            59.684615\n",
       "Corruption           45.115385\n",
       "dtype: float64"
      ]
     },
     "execution_count": 57,
     "metadata": {},
     "output_type": "execute_result"
    }
   ],
   "source": [
    "# Create the dataset for 2018\n",
    "columns_2018 = ['ineq_2018','hdi_2015','demox_2018','pci_2017']\n",
    "df_2018 = df_gap_clean[columns_2018]\n",
    "df_2018.rename(columns = {'ineq_2018': 'Inequality','hdi_2015': 'Human Development','demox_2018': 'Democracy','pci_2017': 'Corruption'}, inplace = True)\n",
    "df_2018_mean = df_2018.mean()\n",
    "df_2018_mean"
   ]
  },
  {
   "cell_type": "code",
   "execution_count": 58,
   "metadata": {},
   "outputs": [
    {
     "data": {
      "image/png": "[encoded data removed]",
      "text/plain": [
       "<Figure size 864x360 with 1 Axes>"
      ]
     },
     "metadata": {},
     "output_type": "display_data"
    }
   ],
   "source": [
    "category_bars(df_2010_mean, df_2018_mean, 'Mean', 'Indicators', 'Mean indicators in 2010 and 2018')"
   ]
  },
  {
   "cell_type": "markdown",
   "metadata": {},
   "source": [
    "**Conclusion:** As we can see from the histogram, the only noticeable change was in the Human Development Index. All other indices roughly stayed on the same level during the period under analysis."
   ]
  },
  {
   "cell_type": "markdown",
   "metadata": {},
   "source": [
    "<a id='question2'></a>\n",
    "### Section 2: Are there tentative correlations between selected economic and social indicators? How does Guatemala stand compared to Germany and the US?\n",
    "\n",
    "To answer these questions I will plot scatter plots to see if there is any apparent correlation.\n",
    "On the plots I will pay special attention to the places where Guatemala, Germany and the Unites States stand.\n",
    "\n",
    "##### Function to plot the scatter plots\n",
    "\n",
    "Since the mechanism of drawing the scatter plots will be identical, I will wrap it up in a function."
   ]
  },
  {
   "cell_type": "code",
   "execution_count": 59,
   "metadata": {},
   "outputs": [],
   "source": [
    "# Write a function to show a scatter plot with two indicators\n",
    "def scatter_plot(df, xcol, ycol, country, x_label, y_label):\n",
    "    plt.figure(figsize=(12,7))\n",
    "    plt.scatter(df[xcol], df[ycol], c = \"b\", s = 3**2, zorder = 2)\n",
    "    selected_countries=['Germany','Guatemala', 'United States']\n",
    "    mask=(df[country].isin(selected_countries))\n",
    "    plt.scatter(df[xcol][mask], df[ycol][mask], c = \"r\", s = 5**2, zorder = 3)\n",
    "    for (x, y, label) in df[[xcol, ycol, country]][mask].values:\n",
    "        plt.text(x, y, label, zorder=4)\n",
    "    plt.xlabel(x_label)\n",
    "    plt.ylabel(y_label)\n",
    "    plt.title('The correlation between {} and {}'.format(x_label, y_label))\n",
    "    plt.show()"
   ]
  },
  {
   "cell_type": "markdown",
   "metadata": {},
   "source": [
    "#### Is there a tentative correlation between life expectancy and GPD per capita?\n",
    "\n",
    "In the scatter plot below I will analyse the correlation between the GDP per capita and life expectancy. I am inclined to say that there should be a positive correlation. A better well being should promote the length of life."
   ]
  },
  {
   "cell_type": "code",
   "execution_count": 60,
   "metadata": {},
   "outputs": [
    {
     "data": {
      "image/png": "[encoded data removed]",
      "text/plain": [
       "<Figure size 864x504 with 1 Axes>"
      ]
     },
     "metadata": {},
     "output_type": "display_data"
    }
   ],
   "source": [
    "scatter_plot(df_gap_clean, 'le_2018', 'gdp_2018', 'country', 'Life Expectancy', 'GDP per Capita')"
   ]
  },
  {
   "cell_type": "markdown",
   "metadata": {},
   "source": [
    "**Conclusion:** And indeed, there is a clear tentative positive correlation between the GDP per capita and the life expectancy.\n",
    "Guatemala has considerably shorter life expectancy and smaller GDP per capita compared to Germany and the US. Germany has the highest life expectancy among the three countries and the US have the highest GDP per capita."
   ]
  },
  {
   "cell_type": "markdown",
   "metadata": {},
   "source": [
    "#### Is there a tentative correlation between the level of democracy and GDP per Capita?\n",
    "\n",
    "On the next scatter plot I will check if there is a correlation between the GDP per capita and the level of democracy. In my opinion there should be a positive correlation."
   ]
  },
  {
   "cell_type": "code",
   "execution_count": 61,
   "metadata": {
    "scrolled": false
   },
   "outputs": [
    {
     "data": {
      "image/png": "[encoded data removed]",
      "text/plain": [
       "<Figure size 864x504 with 1 Axes>"
      ]
     },
     "metadata": {},
     "output_type": "display_data"
    }
   ],
   "source": [
    "scatter_plot(df_gap_clean, 'demox_2018', 'gdp_2018', 'country', 'Democracy Index', 'GDP per Capita')"
   ]
  },
  {
   "cell_type": "markdown",
   "metadata": {},
   "source": [
    "**Conclusion:** Indeed, the scatter plot also shows a positive correlation between the GDP per capita and the level of democracy. However, many outliers may be seen.\n",
    "Guatemala on this plot is on the lower end with very low democracy index. Germany has the highest democracy index among the three countries."
   ]
  },
  {
   "cell_type": "markdown",
   "metadata": {},
   "source": [
    "#### Is there a tentative correlation between the level of corruption and and GDP per Capita?\n",
    "\n",
    "On the next scatter plot I will check if there is a correlation between the GDP per capita and the level of corruption. In my opinion there should be a positive correlation."
   ]
  },
  {
   "cell_type": "code",
   "execution_count": 64,
   "metadata": {
    "scrolled": false
   },
   "outputs": [
    {
     "data": {
      "image/png": "[encoded data removed]",
      "text/plain": [
       "<Figure size 864x504 with 1 Axes>"
      ]
     },
     "metadata": {},
     "output_type": "display_data"
    }
   ],
   "source": [
    "scatter_plot(df_gap_clean, 'pci_2017', 'gdp_2018', 'country', 'Corruption Perception Index', 'GDP per Capita')"
   ]
  },
  {
   "cell_type": "markdown",
   "metadata": {},
   "source": [
    "**Conclusion:** There is a tentative correlation between the GPD per capita and the corruption perception level. Remember that a higher corruption index shows less corruption.\n",
    "Again Guatemala is on the lower end of the sample. And Germany, again, has the highest Corruption Perception Index, which shows the least corruption among the three countries."
   ]
  },
  {
   "cell_type": "markdown",
   "metadata": {},
   "source": [
    "#### Is there a tentative correlation between human development and the level of democracy?\n",
    "\n",
    "On the next scatter plot I will check if there is a correlation between the human development index and the democracy index. In my opinion, there should be a clear positive correlation between the two indices."
   ]
  },
  {
   "cell_type": "code",
   "execution_count": 65,
   "metadata": {},
   "outputs": [
    {
     "data": {
      "image/png": "[encoded data removed]",
      "text/plain": [
       "<Figure size 864x504 with 1 Axes>"
      ]
     },
     "metadata": {},
     "output_type": "display_data"
    }
   ],
   "source": [
    "scatter_plot(df_gap_clean, 'hdi_2015', 'demox_2018', 'country', 'Human Development Index', 'Democracy Index')"
   ]
  },
  {
   "cell_type": "markdown",
   "metadata": {},
   "source": [
    "**Conclusion:** The positive correlation is not that obvious. A positive correlation may be seen but there are many outliers and the countries are scattered quite a lot.\n",
    "Guatemala is among the outliers, with a very low democracy index and a rather high human development index."
   ]
  },
  {
   "cell_type": "markdown",
   "metadata": {},
   "source": [
    "#### Is there a tentative correlation bewteen government military expenditures and the level of democracy?\n",
    "\n",
    "On the next scatter plot I want to check if there is a correlation between the level of government military expenditures and the democracy index. I would think that more democratic countries would spend less on military expenses."
   ]
  },
  {
   "cell_type": "code",
   "execution_count": 68,
   "metadata": {},
   "outputs": [
    {
     "data": {
      "image/png": "[encoded data removed]",
      "text/plain": [
       "<Figure size 864x504 with 1 Axes>"
      ]
     },
     "metadata": {},
     "output_type": "display_data"
    }
   ],
   "source": [
    "scatter_plot(df_gap_clean, 'gms_2018', 'demox_2018', 'country', 'Government Military Spending', 'Democracy Index')"
   ]
  },
  {
   "cell_type": "markdown",
   "metadata": {},
   "source": [
    "**Conclusion:** There seems to be a very vague negative correlation: I don't see a clear dependency between the level of democracy and the military expenditures. Guatemala has the lowest democracy level."
   ]
  },
  {
   "cell_type": "markdown",
   "metadata": {},
   "source": [
    "#### Is there a tentative correlation bewteen the level of inequality and the level of democracy?\n",
    "\n",
    "On the next scatter plot I want to check if there is a correlation between the level of inequality and the democracy index. I would think that more democratic countries would have less inequality in income distribution."
   ]
  },
  {
   "cell_type": "code",
   "execution_count": 69,
   "metadata": {},
   "outputs": [
    {
     "data": {
      "image/png": "[encoded data removed]",
      "text/plain": [
       "<Figure size 864x504 with 1 Axes>"
      ]
     },
     "metadata": {},
     "output_type": "display_data"
    }
   ],
   "source": [
    "scatter_plot(df_gap_clean, 'ineq_2018', 'demox_2018', 'country', 'Inequality Index', 'Democracy Index')"
   ]
  },
  {
   "cell_type": "markdown",
   "metadata": {},
   "source": [
    "**Conclusion:** There seems to be no correlation between the democracy level and the level of income inequality. Guatemala has a low democracy index and stands in the top of Germany and the US in terms of income inequality."
   ]
  },
  {
   "cell_type": "markdown",
   "metadata": {},
   "source": [
    "<a id='question3'></a>\n",
    "### Section 3:  What are the developments in the distribution of income in the world?\n"
   ]
  },
  {
   "cell_type": "markdown",
   "metadata": {},
   "source": [
    "#### Is income distributed equally among countries in 2018?\n",
    "\n",
    "Let's plot some visualisations to see the distribution of income in 2018 among the countries. I will start with a simple histogram"
   ]
  },
  {
   "cell_type": "code",
   "execution_count": 70,
   "metadata": {},
   "outputs": [
    {
     "data": {
      "image/png": "[encoded data removed]",
      "text/plain": [
       "<Figure size 432x288 with 1 Axes>"
      ]
     },
     "metadata": {},
     "output_type": "display_data"
    }
   ],
   "source": [
    "# Plot the distribution of GDP per capita\n",
    "df_gdp = df_gap_clean['gdp_2018']\n",
    "df_gdp.hist();\n",
    "plt.title('Distribution of income in the world')\n",
    "plt.xlabel('Income, USD')\n",
    "plt.ylabel('Number of countries')\n",
    "plt.show()\n"
   ]
  },
  {
   "cell_type": "code",
   "execution_count": 71,
   "metadata": {},
   "outputs": [
    {
     "data": {
      "text/plain": [
       "count      130.000000\n",
       "mean     22066.615385\n",
       "std      20283.193239\n",
       "min        900.000000\n",
       "25%       5477.500000\n",
       "50%      15250.000000\n",
       "75%      34000.000000\n",
       "max      94700.000000\n",
       "Name: gdp_2018, dtype: float64"
      ]
     },
     "execution_count": 71,
     "metadata": {},
     "output_type": "execute_result"
    }
   ],
   "source": [
    "df_gdp.describe()"
   ]
  },
  {
   "cell_type": "markdown",
   "metadata": {},
   "source": [
    "From the histogram and summary above of the 2018 GDP per capita indicators I can see that the distribution of income is far from normal. It is very right-skewed.\n",
    "The mean income is around 22K, the standard deviation is almost as big as the mean.\n",
    "The minimal income is only 900, while the maximum income is as much as 95K.\n",
    "The average income is 15,7K.\n",
    "\n",
    "**Conclusion:** This shows great inequality among the countries in terms of income distribution.\n",
    "\n",
    "#### What are the poorest and the richest countries\n",
    "\n",
    "Let's see which countries are at the very bottom and at the very top of the food chain.\n",
    "\n",
    "##### Poorest countries"
   ]
  },
  {
   "cell_type": "code",
   "execution_count": 72,
   "metadata": {},
   "outputs": [
    {
     "data": {
      "text/plain": [
       "33"
      ]
     },
     "execution_count": 72,
     "metadata": {},
     "output_type": "execute_result"
    }
   ],
   "source": [
    "# Identify low income countries in the lowest quartile:\n",
    "low_income = df_gap_clean.query('gdp_2018 < 5555.0')\n",
    "low_income['country'].count()"
   ]
  },
  {
   "cell_type": "code",
   "execution_count": 73,
   "metadata": {},
   "outputs": [
    {
     "data": {
      "text/html": [
       "<div>\n",
       "<style scoped>\n",
       "    .dataframe tbody tr th:only-of-type {\n",
       "        vertical-align: middle;\n",
       "    }\n",
       "\n",
       "    .dataframe tbody tr th {\n",
       "        vertical-align: top;\n",
       "    }\n",
       "\n",
       "    .dataframe thead th {\n",
       "        text-align: right;\n",
       "    }\n",
       "</style>\n",
       "<table border=\"1\" class=\"dataframe\">\n",
       "  <thead>\n",
       "    <tr style=\"text-align: right;\">\n",
       "      <th></th>\n",
       "      <th>country</th>\n",
       "      <th>region</th>\n",
       "      <th>gdp_2010</th>\n",
       "      <th>gdp_2018</th>\n",
       "      <th>le_2010</th>\n",
       "      <th>le_2018</th>\n",
       "      <th>pg_2010</th>\n",
       "      <th>pg_2018</th>\n",
       "      <th>ineq_2010</th>\n",
       "      <th>ineq_2018</th>\n",
       "      <th>hdi_2010</th>\n",
       "      <th>hdi_2015</th>\n",
       "      <th>demox_2010</th>\n",
       "      <th>demox_2018</th>\n",
       "      <th>gms_2010</th>\n",
       "      <th>gms_2018</th>\n",
       "      <th>pci_2012</th>\n",
       "      <th>pci_2017</th>\n",
       "    </tr>\n",
       "  </thead>\n",
       "  <tbody>\n",
       "    <tr>\n",
       "      <th>38</th>\n",
       "      <td>Congo, Dem. Rep.</td>\n",
       "      <td>Sub Saharan Africa</td>\n",
       "      <td>620.0</td>\n",
       "      <td>900.0</td>\n",
       "      <td>57.9</td>\n",
       "      <td>62.7</td>\n",
       "      <td>3.33</td>\n",
       "      <td>3.23</td>\n",
       "      <td>42.1</td>\n",
       "      <td>42.1</td>\n",
       "      <td>39.8</td>\n",
       "      <td>43.5</td>\n",
       "      <td>21.5</td>\n",
       "      <td>14.9</td>\n",
       "      <td>0.890</td>\n",
       "      <td>0.669</td>\n",
       "      <td>21.0</td>\n",
       "      <td>21.0</td>\n",
       "    </tr>\n",
       "    <tr>\n",
       "      <th>32</th>\n",
       "      <td>Central African Republic</td>\n",
       "      <td>Sub Saharan Africa</td>\n",
       "      <td>970.0</td>\n",
       "      <td>920.0</td>\n",
       "      <td>48.0</td>\n",
       "      <td>52.4</td>\n",
       "      <td>1.13</td>\n",
       "      <td>1.52</td>\n",
       "      <td>56.2</td>\n",
       "      <td>56.2</td>\n",
       "      <td>36.1</td>\n",
       "      <td>35.2</td>\n",
       "      <td>18.2</td>\n",
       "      <td>15.2</td>\n",
       "      <td>2.600</td>\n",
       "      <td>1.410</td>\n",
       "      <td>26.0</td>\n",
       "      <td>23.0</td>\n",
       "    </tr>\n",
       "    <tr>\n",
       "      <th>128</th>\n",
       "      <td>Niger</td>\n",
       "      <td>Sub Saharan Africa</td>\n",
       "      <td>790.0</td>\n",
       "      <td>1040.0</td>\n",
       "      <td>59.1</td>\n",
       "      <td>62.8</td>\n",
       "      <td>3.84</td>\n",
       "      <td>3.82</td>\n",
       "      <td>34.0</td>\n",
       "      <td>34.3</td>\n",
       "      <td>32.3</td>\n",
       "      <td>35.3</td>\n",
       "      <td>33.8</td>\n",
       "      <td>37.6</td>\n",
       "      <td>1.170</td>\n",
       "      <td>2.450</td>\n",
       "      <td>33.0</td>\n",
       "      <td>33.0</td>\n",
       "    </tr>\n",
       "    <tr>\n",
       "      <th>98</th>\n",
       "      <td>Liberia</td>\n",
       "      <td>Sub Saharan Africa</td>\n",
       "      <td>980.0</td>\n",
       "      <td>1130.0</td>\n",
       "      <td>61.3</td>\n",
       "      <td>64.8</td>\n",
       "      <td>3.59</td>\n",
       "      <td>2.45</td>\n",
       "      <td>35.1</td>\n",
       "      <td>33.2</td>\n",
       "      <td>40.6</td>\n",
       "      <td>42.7</td>\n",
       "      <td>50.7</td>\n",
       "      <td>53.5</td>\n",
       "      <td>0.655</td>\n",
       "      <td>0.765</td>\n",
       "      <td>41.0</td>\n",
       "      <td>31.0</td>\n",
       "    </tr>\n",
       "    <tr>\n",
       "      <th>105</th>\n",
       "      <td>Malawi</td>\n",
       "      <td>Sub Saharan Africa</td>\n",
       "      <td>1040.0</td>\n",
       "      <td>1310.0</td>\n",
       "      <td>54.2</td>\n",
       "      <td>63.7</td>\n",
       "      <td>2.87</td>\n",
       "      <td>2.64</td>\n",
       "      <td>44.4</td>\n",
       "      <td>45.5</td>\n",
       "      <td>44.4</td>\n",
       "      <td>47.6</td>\n",
       "      <td>58.4</td>\n",
       "      <td>54.9</td>\n",
       "      <td>0.718</td>\n",
       "      <td>0.846</td>\n",
       "      <td>37.0</td>\n",
       "      <td>31.0</td>\n",
       "    </tr>\n",
       "  </tbody>\n",
       "</table>\n",
       "</div>"
      ],
      "text/plain": [
       "                      country              region  gdp_2010  gdp_2018  \\\n",
       "38           Congo, Dem. Rep.  Sub Saharan Africa     620.0     900.0   \n",
       "32   Central African Republic  Sub Saharan Africa     970.0     920.0   \n",
       "128                     Niger  Sub Saharan Africa     790.0    1040.0   \n",
       "98                    Liberia  Sub Saharan Africa     980.0    1130.0   \n",
       "105                    Malawi  Sub Saharan Africa    1040.0    1310.0   \n",
       "\n",
       "     le_2010  le_2018  pg_2010  pg_2018  ineq_2010  ineq_2018  hdi_2010  \\\n",
       "38      57.9     62.7     3.33     3.23       42.1       42.1      39.8   \n",
       "32      48.0     52.4     1.13     1.52       56.2       56.2      36.1   \n",
       "128     59.1     62.8     3.84     3.82       34.0       34.3      32.3   \n",
       "98      61.3     64.8     3.59     2.45       35.1       33.2      40.6   \n",
       "105     54.2     63.7     2.87     2.64       44.4       45.5      44.4   \n",
       "\n",
       "     hdi_2015  demox_2010  demox_2018  gms_2010  gms_2018  pci_2012  pci_2017  \n",
       "38       43.5        21.5        14.9     0.890     0.669      21.0      21.0  \n",
       "32       35.2        18.2        15.2     2.600     1.410      26.0      23.0  \n",
       "128      35.3        33.8        37.6     1.170     2.450      33.0      33.0  \n",
       "98       42.7        50.7        53.5     0.655     0.765      41.0      31.0  \n",
       "105      47.6        58.4        54.9     0.718     0.846      37.0      31.0  "
      ]
     },
     "execution_count": 73,
     "metadata": {},
     "output_type": "execute_result"
    }
   ],
   "source": [
    "# List the poorest 5 countries\n",
    "sort_by_income = df_gap_clean.sort_values('gdp_2018')\n",
    "sort_by_income.head(5)"
   ]
  },
  {
   "cell_type": "code",
   "execution_count": 74,
   "metadata": {},
   "outputs": [
    {
     "data": {
      "text/html": [
       "<div>\n",
       "<style scoped>\n",
       "    .dataframe tbody tr th:only-of-type {\n",
       "        vertical-align: middle;\n",
       "    }\n",
       "\n",
       "    .dataframe tbody tr th {\n",
       "        vertical-align: top;\n",
       "    }\n",
       "\n",
       "    .dataframe thead th {\n",
       "        text-align: right;\n",
       "    }\n",
       "</style>\n",
       "<table border=\"1\" class=\"dataframe\">\n",
       "  <thead>\n",
       "    <tr style=\"text-align: right;\">\n",
       "      <th></th>\n",
       "      <th>country</th>\n",
       "      <th>region</th>\n",
       "      <th>gdp_2010</th>\n",
       "      <th>gdp_2018</th>\n",
       "      <th>le_2010</th>\n",
       "      <th>le_2018</th>\n",
       "      <th>pg_2010</th>\n",
       "      <th>pg_2018</th>\n",
       "      <th>ineq_2010</th>\n",
       "      <th>ineq_2018</th>\n",
       "      <th>hdi_2010</th>\n",
       "      <th>hdi_2015</th>\n",
       "      <th>demox_2010</th>\n",
       "      <th>demox_2018</th>\n",
       "      <th>gms_2010</th>\n",
       "      <th>gms_2018</th>\n",
       "      <th>pci_2012</th>\n",
       "      <th>pci_2017</th>\n",
       "    </tr>\n",
       "  </thead>\n",
       "  <tbody>\n",
       "    <tr>\n",
       "      <th>38</th>\n",
       "      <td>Congo, Dem. Rep.</td>\n",
       "      <td>Sub Saharan Africa</td>\n",
       "      <td>620.0</td>\n",
       "      <td>900.0</td>\n",
       "      <td>57.9</td>\n",
       "      <td>62.7</td>\n",
       "      <td>3.33</td>\n",
       "      <td>3.23</td>\n",
       "      <td>42.1</td>\n",
       "      <td>42.1</td>\n",
       "      <td>39.8</td>\n",
       "      <td>43.5</td>\n",
       "      <td>21.5</td>\n",
       "      <td>14.9</td>\n",
       "      <td>0.89</td>\n",
       "      <td>0.669</td>\n",
       "      <td>21.0</td>\n",
       "      <td>21.0</td>\n",
       "    </tr>\n",
       "  </tbody>\n",
       "</table>\n",
       "</div>"
      ],
      "text/plain": [
       "             country              region  gdp_2010  gdp_2018  le_2010  \\\n",
       "38  Congo, Dem. Rep.  Sub Saharan Africa     620.0     900.0     57.9   \n",
       "\n",
       "    le_2018  pg_2010  pg_2018  ineq_2010  ineq_2018  hdi_2010  hdi_2015  \\\n",
       "38     62.7     3.33     3.23       42.1       42.1      39.8      43.5   \n",
       "\n",
       "    demox_2010  demox_2018  gms_2010  gms_2018  pci_2012  pci_2017  \n",
       "38        21.5        14.9      0.89     0.669      21.0      21.0  "
      ]
     },
     "execution_count": 74,
     "metadata": {},
     "output_type": "execute_result"
    }
   ],
   "source": [
    "poorest_country = df_gap_clean.query('gdp_2018 == 900.0')\n",
    "poorest_country"
   ]
  },
  {
   "cell_type": "markdown",
   "metadata": {},
   "source": [
    "**Conclusion:** There are as much as 33 countries in the lowest quartile with income less than 5.5K.\n",
    "The poorest country is the Democratic Republic of Congo with GDP per Capita of USD 900.\n",
    "\n",
    "##### Richest countries"
   ]
  },
  {
   "cell_type": "code",
   "execution_count": 75,
   "metadata": {},
   "outputs": [
    {
     "data": {
      "text/plain": [
       "33"
      ]
     },
     "execution_count": 75,
     "metadata": {},
     "output_type": "execute_result"
    }
   ],
   "source": [
    "# Identify high-income countries in the highest quartile:\n",
    "high_income = df_gap_clean.query('gdp_2018 >= 33700.00')\n",
    "high_income['country'].count()"
   ]
  },
  {
   "cell_type": "code",
   "execution_count": 76,
   "metadata": {},
   "outputs": [
    {
     "data": {
      "text/html": [
       "<div>\n",
       "<style scoped>\n",
       "    .dataframe tbody tr th:only-of-type {\n",
       "        vertical-align: middle;\n",
       "    }\n",
       "\n",
       "    .dataframe tbody tr th {\n",
       "        vertical-align: top;\n",
       "    }\n",
       "\n",
       "    .dataframe thead th {\n",
       "        text-align: right;\n",
       "    }\n",
       "</style>\n",
       "<table border=\"1\" class=\"dataframe\">\n",
       "  <thead>\n",
       "    <tr style=\"text-align: right;\">\n",
       "      <th></th>\n",
       "      <th>country</th>\n",
       "      <th>region</th>\n",
       "      <th>gdp_2010</th>\n",
       "      <th>gdp_2018</th>\n",
       "      <th>le_2010</th>\n",
       "      <th>le_2018</th>\n",
       "      <th>pg_2010</th>\n",
       "      <th>pg_2018</th>\n",
       "      <th>ineq_2010</th>\n",
       "      <th>ineq_2018</th>\n",
       "      <th>hdi_2010</th>\n",
       "      <th>hdi_2015</th>\n",
       "      <th>demox_2010</th>\n",
       "      <th>demox_2018</th>\n",
       "      <th>gms_2010</th>\n",
       "      <th>gms_2018</th>\n",
       "      <th>pci_2012</th>\n",
       "      <th>pci_2017</th>\n",
       "    </tr>\n",
       "  </thead>\n",
       "  <tbody>\n",
       "    <tr>\n",
       "      <th>156</th>\n",
       "      <td>Singapore</td>\n",
       "      <td>East Asia Pasific</td>\n",
       "      <td>70800.0</td>\n",
       "      <td>94700.0</td>\n",
       "      <td>83.2</td>\n",
       "      <td>85.0</td>\n",
       "      <td>1.77</td>\n",
       "      <td>0.470</td>\n",
       "      <td>42.5</td>\n",
       "      <td>40.9</td>\n",
       "      <td>91.1</td>\n",
       "      <td>92.5</td>\n",
       "      <td>58.9</td>\n",
       "      <td>63.8</td>\n",
       "      <td>3.430</td>\n",
       "      <td>3.140</td>\n",
       "      <td>87.0</td>\n",
       "      <td>84.0</td>\n",
       "    </tr>\n",
       "    <tr>\n",
       "      <th>92</th>\n",
       "      <td>Kuwait</td>\n",
       "      <td>Western Asia</td>\n",
       "      <td>79200.0</td>\n",
       "      <td>84300.0</td>\n",
       "      <td>81.2</td>\n",
       "      <td>83.2</td>\n",
       "      <td>5.88</td>\n",
       "      <td>1.980</td>\n",
       "      <td>40.0</td>\n",
       "      <td>40.0</td>\n",
       "      <td>79.2</td>\n",
       "      <td>80.0</td>\n",
       "      <td>38.8</td>\n",
       "      <td>38.5</td>\n",
       "      <td>3.760</td>\n",
       "      <td>5.060</td>\n",
       "      <td>44.0</td>\n",
       "      <td>39.0</td>\n",
       "    </tr>\n",
       "    <tr>\n",
       "      <th>102</th>\n",
       "      <td>Luxembourg</td>\n",
       "      <td>Western Europe</td>\n",
       "      <td>61800.0</td>\n",
       "      <td>72200.0</td>\n",
       "      <td>80.8</td>\n",
       "      <td>81.8</td>\n",
       "      <td>1.83</td>\n",
       "      <td>1.930</td>\n",
       "      <td>32.1</td>\n",
       "      <td>33.8</td>\n",
       "      <td>89.4</td>\n",
       "      <td>89.8</td>\n",
       "      <td>88.8</td>\n",
       "      <td>88.1</td>\n",
       "      <td>0.515</td>\n",
       "      <td>0.612</td>\n",
       "      <td>80.0</td>\n",
       "      <td>82.0</td>\n",
       "    </tr>\n",
       "    <tr>\n",
       "      <th>168</th>\n",
       "      <td>Switzerland</td>\n",
       "      <td>Western Europe</td>\n",
       "      <td>56200.0</td>\n",
       "      <td>68800.0</td>\n",
       "      <td>82.5</td>\n",
       "      <td>84.1</td>\n",
       "      <td>1.04</td>\n",
       "      <td>0.724</td>\n",
       "      <td>32.5</td>\n",
       "      <td>32.3</td>\n",
       "      <td>93.2</td>\n",
       "      <td>93.9</td>\n",
       "      <td>90.9</td>\n",
       "      <td>90.3</td>\n",
       "      <td>0.705</td>\n",
       "      <td>0.676</td>\n",
       "      <td>86.0</td>\n",
       "      <td>85.0</td>\n",
       "    </tr>\n",
       "    <tr>\n",
       "      <th>130</th>\n",
       "      <td>Norway</td>\n",
       "      <td>Western Europe</td>\n",
       "      <td>58600.0</td>\n",
       "      <td>68300.0</td>\n",
       "      <td>80.9</td>\n",
       "      <td>82.5</td>\n",
       "      <td>1.25</td>\n",
       "      <td>0.660</td>\n",
       "      <td>26.0</td>\n",
       "      <td>27.5</td>\n",
       "      <td>93.9</td>\n",
       "      <td>94.9</td>\n",
       "      <td>98.0</td>\n",
       "      <td>98.7</td>\n",
       "      <td>1.510</td>\n",
       "      <td>1.610</td>\n",
       "      <td>85.0</td>\n",
       "      <td>85.0</td>\n",
       "    </tr>\n",
       "  </tbody>\n",
       "</table>\n",
       "</div>"
      ],
      "text/plain": [
       "         country             region  gdp_2010  gdp_2018  le_2010  le_2018  \\\n",
       "156    Singapore  East Asia Pasific   70800.0   94700.0     83.2     85.0   \n",
       "92        Kuwait       Western Asia   79200.0   84300.0     81.2     83.2   \n",
       "102   Luxembourg     Western Europe   61800.0   72200.0     80.8     81.8   \n",
       "168  Switzerland     Western Europe   56200.0   68800.0     82.5     84.1   \n",
       "130       Norway     Western Europe   58600.0   68300.0     80.9     82.5   \n",
       "\n",
       "     pg_2010  pg_2018  ineq_2010  ineq_2018  hdi_2010  hdi_2015  demox_2010  \\\n",
       "156     1.77    0.470       42.5       40.9      91.1      92.5        58.9   \n",
       "92      5.88    1.980       40.0       40.0      79.2      80.0        38.8   \n",
       "102     1.83    1.930       32.1       33.8      89.4      89.8        88.8   \n",
       "168     1.04    0.724       32.5       32.3      93.2      93.9        90.9   \n",
       "130     1.25    0.660       26.0       27.5      93.9      94.9        98.0   \n",
       "\n",
       "     demox_2018  gms_2010  gms_2018  pci_2012  pci_2017  \n",
       "156        63.8     3.430     3.140      87.0      84.0  \n",
       "92         38.5     3.760     5.060      44.0      39.0  \n",
       "102        88.1     0.515     0.612      80.0      82.0  \n",
       "168        90.3     0.705     0.676      86.0      85.0  \n",
       "130        98.7     1.510     1.610      85.0      85.0  "
      ]
     },
     "execution_count": 76,
     "metadata": {},
     "output_type": "execute_result"
    }
   ],
   "source": [
    "# List the richest 5 countries\n",
    "sort_by_income = df_gap_clean.sort_values('gdp_2018', ascending = False)\n",
    "sort_by_income.head(5)"
   ]
  },
  {
   "cell_type": "code",
   "execution_count": 77,
   "metadata": {},
   "outputs": [
    {
     "data": {
      "text/html": [
       "<div>\n",
       "<style scoped>\n",
       "    .dataframe tbody tr th:only-of-type {\n",
       "        vertical-align: middle;\n",
       "    }\n",
       "\n",
       "    .dataframe tbody tr th {\n",
       "        vertical-align: top;\n",
       "    }\n",
       "\n",
       "    .dataframe thead th {\n",
       "        text-align: right;\n",
       "    }\n",
       "</style>\n",
       "<table border=\"1\" class=\"dataframe\">\n",
       "  <thead>\n",
       "    <tr style=\"text-align: right;\">\n",
       "      <th></th>\n",
       "      <th>country</th>\n",
       "      <th>region</th>\n",
       "      <th>gdp_2010</th>\n",
       "      <th>gdp_2018</th>\n",
       "      <th>le_2010</th>\n",
       "      <th>le_2018</th>\n",
       "      <th>pg_2010</th>\n",
       "      <th>pg_2018</th>\n",
       "      <th>ineq_2010</th>\n",
       "      <th>ineq_2018</th>\n",
       "      <th>hdi_2010</th>\n",
       "      <th>hdi_2015</th>\n",
       "      <th>demox_2010</th>\n",
       "      <th>demox_2018</th>\n",
       "      <th>gms_2010</th>\n",
       "      <th>gms_2018</th>\n",
       "      <th>pci_2012</th>\n",
       "      <th>pci_2017</th>\n",
       "    </tr>\n",
       "  </thead>\n",
       "  <tbody>\n",
       "    <tr>\n",
       "      <th>156</th>\n",
       "      <td>Singapore</td>\n",
       "      <td>East Asia Pasific</td>\n",
       "      <td>70800.0</td>\n",
       "      <td>94700.0</td>\n",
       "      <td>83.2</td>\n",
       "      <td>85.0</td>\n",
       "      <td>1.77</td>\n",
       "      <td>0.47</td>\n",
       "      <td>42.5</td>\n",
       "      <td>40.9</td>\n",
       "      <td>91.1</td>\n",
       "      <td>92.5</td>\n",
       "      <td>58.9</td>\n",
       "      <td>63.8</td>\n",
       "      <td>3.43</td>\n",
       "      <td>3.14</td>\n",
       "      <td>87.0</td>\n",
       "      <td>84.0</td>\n",
       "    </tr>\n",
       "  </tbody>\n",
       "</table>\n",
       "</div>"
      ],
      "text/plain": [
       "       country             region  gdp_2010  gdp_2018  le_2010  le_2018  \\\n",
       "156  Singapore  East Asia Pasific   70800.0   94700.0     83.2     85.0   \n",
       "\n",
       "     pg_2010  pg_2018  ineq_2010  ineq_2018  hdi_2010  hdi_2015  demox_2010  \\\n",
       "156     1.77     0.47       42.5       40.9      91.1      92.5        58.9   \n",
       "\n",
       "     demox_2018  gms_2010  gms_2018  pci_2012  pci_2017  \n",
       "156        63.8      3.43      3.14      87.0      84.0  "
      ]
     },
     "execution_count": 77,
     "metadata": {},
     "output_type": "execute_result"
    }
   ],
   "source": [
    "richest_country = df_gap_clean.query('gdp_2018 == 94700.00')\n",
    "richest_country"
   ]
  },
  {
   "cell_type": "markdown",
   "metadata": {},
   "source": [
    "**Conclusion:** There are as much as 33 countries in the highest quartile with income more than 33.7K.\n",
    "The richest country is Singapore with GDP per Capita of USD 94.7K."
   ]
  },
  {
   "cell_type": "markdown",
   "metadata": {},
   "source": [
    "#### Which regions have the highest and lowest inequality index and how has the index changed by region in 2018 compared to 2010?\n",
    "\n",
    "On the plot below I will see the development of the inequality index by regions to identify regions with the highest inequality in income distribution within the country."
   ]
  },
  {
   "cell_type": "code",
   "execution_count": 78,
   "metadata": {},
   "outputs": [
    {
     "data": {
      "text/plain": [
       "region\n",
       "East Asia Pasific     36.586667\n",
       "Eastern Europe        31.461905\n",
       "North America         44.525000\n",
       "Northern Africa       35.733333\n",
       "South America         45.640000\n",
       "Sub Saharan Africa    44.623529\n",
       "Western Asia          35.031250\n",
       "Western Europe        31.784211\n",
       "Name: ineq_2018, dtype: float64"
      ]
     },
     "execution_count": 78,
     "metadata": {},
     "output_type": "execute_result"
    }
   ],
   "source": [
    "gdp_region_ineq_2018 = df_gap_clean.groupby('region')['ineq_2018'].mean()\n",
    "gdp_region_ineq_2010 = df_gap_clean.groupby('region')['ineq_2010'].mean()\n",
    "gdp_region_ineq_2018"
   ]
  },
  {
   "cell_type": "code",
   "execution_count": 79,
   "metadata": {},
   "outputs": [
    {
     "data": {
      "image/png": "[encoded data removed]",
      "text/plain": [
       "<Figure size 864x360 with 1 Axes>"
      ]
     },
     "metadata": {},
     "output_type": "display_data"
    }
   ],
   "source": [
    "ind_region_ineq = gdp_region_ineq_2018.index\n",
    "bar_places = np.arange(len(gdp_region_ineq_2018))\n",
    "width = 0.35\n",
    "plt.subplots(figsize=(12, 5))\n",
    "bars_2010 = plt.bar(bar_places, gdp_region_ineq_2010, width, color='r', alpha=.7, label='2010')\n",
    "bars_2018 = plt.bar(bar_places + width, gdp_region_ineq_2018, width, color='g', alpha=.7, label = '2018')\n",
    "\n",
    "# title and labels\n",
    "plt.ylabel('Inequality index, % of 100%')\n",
    "plt.xlabel('Regions')\n",
    "plt.title('Comparison of Inequality Index by region by year')\n",
    "\n",
    "locations = bar_places + width / 2  # xtick locations\n",
    "labels = ind_region_ineq  # xtick labels\n",
    "plt.xticks(locations, labels)\n",
    "\n",
    "plt.legend()\n",
    "plt.show();"
   ]
  },
  {
   "cell_type": "markdown",
   "metadata": {},
   "source": [
    "**Conclusion:** South America, North America and Sub-Saharan Africa show the highest income inequality within the country. Europe seems to have the least income inequality."
   ]
  },
  {
   "cell_type": "markdown",
   "metadata": {},
   "source": [
    "<a id='conclusions'></a>\n",
    "## Conclusions\n",
    "\n",
    "Based on Gapminder data and my analysis of it, I summarised below the conclusions regarding the development of the society in 2018 compared to 2010.\n",
    "In the analysis I used the methods of descriptive statistics and visualisations.\n",
    "So the conclusions regarding potential correlations between indicators are tentative and may deviate from the actual state of affairs.\n",
    "\n",
    "**Section 1: General developments in the world in 2018 compared to 2010**\n",
    "> GDP per capita has noticeably increased by 5 353 USD. Western Europe seems to have the highest GDP per capita followed by East Asia Pasific. Africa shows the lowest GDP per capita. Western Asia and Africa have shown the highest population growth. Eastern Europe has a negative population growth. The only noticeable increase was in the Human Development Index. The levels of democracy, corruption and inequality roughly stayed the same.\n",
    "> Among the three countries Guatemala has the lowest GDP per capita, Germany being on the second place with the United States having the highest GDP per capita.\n",
    "    \n",
    "**Section 2: Are there tentative correlations between certain indicators?**\n",
    ">There is are clear tentative positive correlations between GDP per capita and life expectancy, between GDP per capita and the level of democracy. Guatemala has considerably shorter life expectancy and smaller GDP per capita compared to Germany and the US. Guatemala shows a very low democracy index, while Germany has the highest democracy index among the three countries.\n",
    "There is a tentative negative correlation between GPD per capita and the corruption perception level. Guatemala is on the lower end of the sample, while Germany shows the lowest level of corruption among the three countries.\n",
    "There seems to be no obvious correlations between human development and democracy or between democracy and military expenditures or bewteen democracy and inequality. Guatemala is among the outliers, with a very low democracy index and a rather high human development index and high military expenditures.\n",
    "\n",
    "**Section 3:  What are the developments in the disbribution of income in the world?**\n",
    ">There is great inequality among the countries in terms of income distribution. 33 countries are in the lowest quartile with income less than 5.5K. The poorest country is Congo with GDP of USD 900. Other 33 countries are in the highest quartile with income more than 33.7K. The richest country is Singapore with GDP of USD 94.7K.\n",
    "South America, North America and Sub-Saharan Africa show the highest income distribution inequality within the country. Europe seems to have the least income inequality."
   ]
  }
 ],
 "metadata": {
  "kernelspec": {
   "display_name": "Python 3",
   "language": "python",
   "name": "python3"
  },
  "language_info": {
   "codemirror_mode": {
    "name": "ipython",
    "version": 3
   },
   "file_extension": ".py",
   "mimetype": "text/x-python",
   "name": "python",
   "nbconvert_exporter": "python",
   "pygments_lexer": "ipython3",
   "version": "3.7.6"
  }
 },
 "nbformat": 4,
 "nbformat_minor": 2
}
